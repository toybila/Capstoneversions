{
  "nbformat": 4,
  "nbformat_minor": 0,
  "metadata": {
    "colab": {
      "name": "Capstone CNN.ipynb",
      "provenance": [],
      "collapsed_sections": []
    },
    "kernelspec": {
      "name": "python3",
      "display_name": "Python 3"
    },
    "accelerator": "GPU"
  },
  "cells": [
    {
      "cell_type": "code",
      "metadata": {
        "id": "mHQZJrOl8jB7"
      },
      "source": [
        "import numpy as np\r\n",
        "import pandas as pd\r\n",
        "from sklearn.preprocessing import StandardScaler, LabelEncoder\r\n",
        "from sklearn.model_selection import train_test_split\r\n",
        "from keras.applications.vgg19 import preprocess_input\r\n",
        "import tensorflow as tf\r\n",
        "from tensorflow.keras import datasets, layers, models"
      ],
      "execution_count": null,
      "outputs": []
    },
    {
      "cell_type": "code",
      "metadata": {
        "id": "bEhIkSklFEqL"
      },
      "source": [
        "df = pd.read_csv('combined.csv')"
      ],
      "execution_count": null,
      "outputs": []
    },
    {
      "cell_type": "code",
      "metadata": {
        "id": "_E61yK3uFSHh",
        "colab": {
          "base_uri": "https://localhost:8080/"
        },
        "outputId": "4f9abf6c-d7b7-44e5-ced1-f2d3886d7ced"
      },
      "source": [
        "label_array = df[' Label'].unique()\r\n",
        "count = 0\r\n",
        "for i in label_array:\r\n",
        "  df.loc[(df[' Label']== i),' Label']= count\r\n",
        "  print (i , count )\r\n",
        "  count += 1"
      ],
      "execution_count": null,
      "outputs": [
        {
          "output_type": "stream",
          "text": [
            "BENIGN 0\n",
            "DDoS 1\n",
            "PortScan 2\n",
            "Bot 3\n",
            "Infiltration 4\n",
            "Web Attack � Brute Force 5\n",
            "Web Attack � XSS 6\n",
            "Web Attack � Sql Injection 7\n",
            "FTP-Patator 8\n",
            "SSH-Patator 9\n",
            "DoS slowloris 10\n",
            "DoS Slowhttptest 11\n",
            "DoS Hulk 12\n",
            "DoS GoldenEye 13\n",
            "Heartbleed 14\n"
          ],
          "name": "stdout"
        }
      ]
    },
    {
      "cell_type": "code",
      "metadata": {
        "id": "eK6zKWEEFiGB"
      },
      "source": [
        "def clean_dataset(df):\r\n",
        "    assert isinstance(df, pd.DataFrame), \"df needs to be a pd.DataFrame\"\r\n",
        "    df.dropna(inplace=True)\r\n",
        "    indices_to_keep = ~df.isin([np.nan, np.inf, -np.inf]).any(1)\r\n",
        "    return df[indices_to_keep].astype(np.float64)"
      ],
      "execution_count": null,
      "outputs": []
    },
    {
      "cell_type": "code",
      "metadata": {
        "id": "VQ_rk8CbFpmm"
      },
      "source": [
        "df = clean_dataset(df)"
      ],
      "execution_count": null,
      "outputs": []
    },
    {
      "cell_type": "code",
      "metadata": {
        "id": "5zDMSn1JGLuq"
      },
      "source": [
        "dataset = df.values"
      ],
      "execution_count": null,
      "outputs": []
    },
    {
      "cell_type": "code",
      "metadata": {
        "id": "ERigaNJCGN9Z"
      },
      "source": [
        "X = dataset[:,0:78]"
      ],
      "execution_count": null,
      "outputs": []
    },
    {
      "cell_type": "code",
      "metadata": {
        "id": "DSCljsbRGfWX"
      },
      "source": [
        "Y =dataset[:,78]"
      ],
      "execution_count": null,
      "outputs": []
    },
    {
      "cell_type": "code",
      "metadata": {
        "id": "bgqLnYvlIkh9"
      },
      "source": [
        "Y=Y.astype(int)"
      ],
      "execution_count": null,
      "outputs": []
    },
    {
      "cell_type": "code",
      "metadata": {
        "colab": {
          "base_uri": "https://localhost:8080/"
        },
        "id": "YrP38RCPvRUN",
        "outputId": "208fef25-580b-43a6-a960-af2e287fe2d2"
      },
      "source": [
        "from imblearn.over_sampling import SMOTE\r\n",
        "up_dict = {3:5000,4:5000,5:5000,6:5000,7:5000,14:5000}\r\n",
        "over =SMOTE (sampling_strategy = up_dict)"
      ],
      "execution_count": null,
      "outputs": [
        {
          "output_type": "stream",
          "text": [
            "/usr/local/lib/python3.6/dist-packages/sklearn/externals/six.py:31: FutureWarning: The module is deprecated in version 0.21 and will be removed in version 0.23 since we've dropped support for Python 2.7. Please rely on the official version of six (https://pypi.org/project/six/).\n",
            "  \"(https://pypi.org/project/six/).\", FutureWarning)\n",
            "/usr/local/lib/python3.6/dist-packages/sklearn/utils/deprecation.py:144: FutureWarning: The sklearn.neighbors.base module is  deprecated in version 0.22 and will be removed in version 0.24. The corresponding classes / functions should instead be imported from sklearn.neighbors. Anything that cannot be imported from sklearn.neighbors is now part of the private API.\n",
            "  warnings.warn(message, FutureWarning)\n"
          ],
          "name": "stderr"
        }
      ]
    },
    {
      "cell_type": "code",
      "metadata": {
        "colab": {
          "base_uri": "https://localhost:8080/"
        },
        "id": "TH-CKKMevUOg",
        "outputId": "0fd820ac-94a0-4b8f-bbec-285bd9669a47"
      },
      "source": [
        "X,Y = over.fit_resample(X, Y)"
      ],
      "execution_count": null,
      "outputs": [
        {
          "output_type": "stream",
          "text": [
            "/usr/local/lib/python3.6/dist-packages/sklearn/utils/deprecation.py:87: FutureWarning: Function safe_indexing is deprecated; safe_indexing is deprecated in version 0.22 and will be removed in version 0.24.\n",
            "  warnings.warn(msg, category=FutureWarning)\n",
            "/usr/local/lib/python3.6/dist-packages/sklearn/utils/deprecation.py:87: FutureWarning: Function safe_indexing is deprecated; safe_indexing is deprecated in version 0.22 and will be removed in version 0.24.\n",
            "  warnings.warn(msg, category=FutureWarning)\n",
            "/usr/local/lib/python3.6/dist-packages/sklearn/utils/deprecation.py:87: FutureWarning: Function safe_indexing is deprecated; safe_indexing is deprecated in version 0.22 and will be removed in version 0.24.\n",
            "  warnings.warn(msg, category=FutureWarning)\n",
            "/usr/local/lib/python3.6/dist-packages/sklearn/utils/deprecation.py:87: FutureWarning: Function safe_indexing is deprecated; safe_indexing is deprecated in version 0.22 and will be removed in version 0.24.\n",
            "  warnings.warn(msg, category=FutureWarning)\n",
            "/usr/local/lib/python3.6/dist-packages/sklearn/utils/deprecation.py:87: FutureWarning: Function safe_indexing is deprecated; safe_indexing is deprecated in version 0.22 and will be removed in version 0.24.\n",
            "  warnings.warn(msg, category=FutureWarning)\n",
            "/usr/local/lib/python3.6/dist-packages/sklearn/utils/deprecation.py:87: FutureWarning: Function safe_indexing is deprecated; safe_indexing is deprecated in version 0.22 and will be removed in version 0.24.\n",
            "  warnings.warn(msg, category=FutureWarning)\n"
          ],
          "name": "stderr"
        }
      ]
    },
    {
      "cell_type": "code",
      "metadata": {
        "id": "eSFtG0HxIlT7"
      },
      "source": [
        "scaler = StandardScaler()\r\n",
        "X = scaler.fit_transform(X)"
      ],
      "execution_count": null,
      "outputs": []
    },
    {
      "cell_type": "code",
      "metadata": {
        "id": "up51DX2wI1BY"
      },
      "source": [
        "X_train,X_val_test,Y_train,Y_val_test = train_test_split(X,Y,test_size = 0.3)"
      ],
      "execution_count": null,
      "outputs": []
    },
    {
      "cell_type": "code",
      "metadata": {
        "id": "NCCUclpoKI4-"
      },
      "source": [
        "X_val,X_test,Y_val,Y_test = train_test_split(X_val_test,Y_val_test,test_size = 0.5)"
      ],
      "execution_count": null,
      "outputs": []
    },
    {
      "cell_type": "code",
      "metadata": {
        "id": "egdKgTdrK0wY",
        "colab": {
          "base_uri": "https://localhost:8080/"
        },
        "outputId": "fb14e03c-40bb-469a-bb86-55d89b6a89fc"
      },
      "source": [
        "print(X_train.shape)"
      ],
      "execution_count": null,
      "outputs": [
        {
          "output_type": "stream",
          "text": [
            "(1997585, 78)\n"
          ],
          "name": "stdout"
        }
      ]
    },
    {
      "cell_type": "code",
      "metadata": {
        "id": "zWjeofZJK8bC"
      },
      "source": [
        "X_train = np.array([x.reshape(78,1) for x in X_train])\r\n",
        "X_test = np.array([x.reshape(78,1) for x in X_test])\r\n",
        "X_val = np.array([x.reshape(78,1) for x in X_val])"
      ],
      "execution_count": null,
      "outputs": []
    },
    {
      "cell_type": "code",
      "metadata": {
        "id": "r-PRa8S2PISy"
      },
      "source": [
        "Y_train = np.array([x.reshape(1) for x in Y_train])\r\n",
        "Y_test = np.array([x.reshape(1) for x in Y_test])\r\n",
        "Y_val = np.array([x.reshape(1) for x in Y_val])"
      ],
      "execution_count": null,
      "outputs": []
    },
    {
      "cell_type": "code",
      "metadata": {
        "id": "29xfL37JPeB0",
        "colab": {
          "base_uri": "https://localhost:8080/"
        },
        "outputId": "5870ef7f-4791-455f-d3e8-24e5c7d20370"
      },
      "source": [
        "X_train.shape"
      ],
      "execution_count": null,
      "outputs": [
        {
          "output_type": "execute_result",
          "data": {
            "text/plain": [
              "(1997585, 78, 1)"
            ]
          },
          "metadata": {
            "tags": []
          },
          "execution_count": 21
        }
      ]
    },
    {
      "cell_type": "code",
      "metadata": {
        "colab": {
          "base_uri": "https://localhost:8080/"
        },
        "id": "MtDnjB2_3w3y",
        "outputId": "d99075c3-bc40-45ce-a1f3-01e1dec86c49"
      },
      "source": [
        "Y_train.shape"
      ],
      "execution_count": null,
      "outputs": [
        {
          "output_type": "execute_result",
          "data": {
            "text/plain": [
              "(1997585, 1)"
            ]
          },
          "metadata": {
            "tags": []
          },
          "execution_count": 22
        }
      ]
    },
    {
      "cell_type": "code",
      "metadata": {
        "id": "ril5Q4brogwv"
      },
      "source": [
        "model = models.Sequential()\r\n",
        "model.add(layers.Conv1D(32,5,activation='sigmoid',input_shape =(78,1)))\r\n",
        "model.add(layers.Conv1D(32,5,activation='sigmoid'))\r\n",
        "model.add(layers.MaxPool1D(2,1))\r\n",
        "model.add(layers.Conv1D(32,5,activation = 'sigmoid'))\r\n",
        "model.add(layers.MaxPool1D(2,1))\r\n",
        "model.add(layers.BatchNormalization(batch_size = 32))\r\n",
        "model.add(layers.Dropout(0.5))\r\n",
        "model.add(layers.Flatten())\r\n",
        "model.add(layers.Dense(64, activation='softmax'))\r\n",
        "model.add(layers.Dense(15))"
      ],
      "execution_count": null,
      "outputs": []
    },
    {
      "cell_type": "code",
      "metadata": {
        "colab": {
          "base_uri": "https://localhost:8080/"
        },
        "id": "TixrtVps0EP2",
        "outputId": "6ee0ebdf-e84f-410d-e819-afae6ef2bc0e"
      },
      "source": [
        "model.summary()"
      ],
      "execution_count": null,
      "outputs": [
        {
          "output_type": "stream",
          "text": [
            "Model: \"sequential\"\n",
            "_________________________________________________________________\n",
            "Layer (type)                 Output Shape              Param #   \n",
            "=================================================================\n",
            "conv1d (Conv1D)              (None, 74, 32)            192       \n",
            "_________________________________________________________________\n",
            "conv1d_1 (Conv1D)            (None, 70, 32)            5152      \n",
            "_________________________________________________________________\n",
            "max_pooling1d (MaxPooling1D) (None, 69, 32)            0         \n",
            "_________________________________________________________________\n",
            "conv1d_2 (Conv1D)            (None, 65, 32)            5152      \n",
            "_________________________________________________________________\n",
            "max_pooling1d_1 (MaxPooling1 (None, 64, 32)            0         \n",
            "_________________________________________________________________\n",
            "batch_normalization (BatchNo (None, 64, 32)            128       \n",
            "_________________________________________________________________\n",
            "dropout (Dropout)            (None, 64, 32)            0         \n",
            "_________________________________________________________________\n",
            "flatten (Flatten)            (None, 2048)              0         \n",
            "_________________________________________________________________\n",
            "dense (Dense)                (None, 64)                131136    \n",
            "_________________________________________________________________\n",
            "dense_1 (Dense)              (None, 15)                975       \n",
            "=================================================================\n",
            "Total params: 142,735\n",
            "Trainable params: 142,671\n",
            "Non-trainable params: 64\n",
            "_________________________________________________________________\n"
          ],
          "name": "stdout"
        }
      ]
    },
    {
      "cell_type": "code",
      "metadata": {
        "colab": {
          "base_uri": "https://localhost:8080/"
        },
        "id": "TXsgtXlN0HzB",
        "outputId": "902bc0fe-fbe1-4573-ba81-a4a520185ba2"
      },
      "source": [
        "model.compile(optimizer='adam',\r\n",
        "              loss=tf.keras.losses.SparseCategoricalCrossentropy(from_logits=True),\r\n",
        "              metrics=['accuracy'])\r\n",
        "\r\n",
        "history = model.fit(X_train, Y_train, epochs=10, \r\n",
        "                    validation_data=(X_val, Y_val))"
      ],
      "execution_count": null,
      "outputs": [
        {
          "output_type": "stream",
          "text": [
            "Epoch 1/10\n",
            "62425/62425 [==============================] - 242s 4ms/step - loss: 0.4006 - accuracy: 0.9168 - val_loss: 0.1430 - val_accuracy: 0.9524\n",
            "Epoch 2/10\n",
            "62425/62425 [==============================] - 235s 4ms/step - loss: 0.1102 - accuracy: 0.9610 - val_loss: 0.0579 - val_accuracy: 0.9756\n",
            "Epoch 3/10\n",
            "62425/62425 [==============================] - 235s 4ms/step - loss: 0.0620 - accuracy: 0.9735 - val_loss: 0.0522 - val_accuracy: 0.9787\n",
            "Epoch 4/10\n",
            "62425/62425 [==============================] - 234s 4ms/step - loss: 0.0561 - accuracy: 0.9758 - val_loss: 0.0486 - val_accuracy: 0.9787\n",
            "Epoch 5/10\n",
            "62425/62425 [==============================] - 234s 4ms/step - loss: 0.0534 - accuracy: 0.9775 - val_loss: 0.0464 - val_accuracy: 0.9826\n",
            "Epoch 6/10\n",
            "62425/62425 [==============================] - 233s 4ms/step - loss: 0.0513 - accuracy: 0.9786 - val_loss: 0.0454 - val_accuracy: 0.9824\n",
            "Epoch 7/10\n",
            "62425/62425 [==============================] - 233s 4ms/step - loss: 0.0497 - accuracy: 0.9794 - val_loss: 0.0450 - val_accuracy: 0.9816\n",
            "Epoch 8/10\n",
            "62425/62425 [==============================] - 233s 4ms/step - loss: 0.0479 - accuracy: 0.9803 - val_loss: 0.0426 - val_accuracy: 0.9842\n",
            "Epoch 9/10\n",
            "62425/62425 [==============================] - 231s 4ms/step - loss: 0.0470 - accuracy: 0.9809 - val_loss: 0.0398 - val_accuracy: 0.9844\n",
            "Epoch 10/10\n",
            "62425/62425 [==============================] - 232s 4ms/step - loss: 0.0454 - accuracy: 0.9814 - val_loss: 0.0402 - val_accuracy: 0.9841\n"
          ],
          "name": "stdout"
        }
      ]
    },
    {
      "cell_type": "code",
      "metadata": {
        "colab": {
          "base_uri": "https://localhost:8080/"
        },
        "id": "2eWq7Svf-4rn",
        "outputId": "d8237f35-2850-4a99-9fb7-1a6c3aa87c24"
      },
      "source": [
        "test_loss, test_acc = model.evaluate(X_test, Y_test, verbose=2)"
      ],
      "execution_count": null,
      "outputs": [
        {
          "output_type": "stream",
          "text": [
            "13377/13377 - 19s - loss: 0.0403 - accuracy: 0.9841\n"
          ],
          "name": "stdout"
        }
      ]
    },
    {
      "cell_type": "code",
      "metadata": {
        "id": "1Fi977i-FDf7"
      },
      "source": [
        "predictions = model.predict(X_test)"
      ],
      "execution_count": null,
      "outputs": []
    },
    {
      "cell_type": "code",
      "metadata": {
        "id": "sHDHl_Basdvd"
      },
      "source": [
        "prediction_index=np.argmax(predictions,axis=1)"
      ],
      "execution_count": null,
      "outputs": []
    },
    {
      "cell_type": "code",
      "metadata": {
        "colab": {
          "base_uri": "https://localhost:8080/"
        },
        "id": "gzadVFuYuPDA",
        "outputId": "6bfe54c1-62da-45f4-b778-699545e8aa8d"
      },
      "source": [
        "from sklearn.metrics import classification_report, confusion_matrix\r\n",
        "print(confusion_matrix(Y_test,prediction_index))\r\n",
        "print(classification_report(Y_test,prediction_index))"
      ],
      "execution_count": null,
      "outputs": [
        {
          "output_type": "stream",
          "text": [
            "[[337422      6   2482    144      7      3     84     56      1     12\n",
            "      11     98    668     14      1]\n",
            " [   220  18903      0      0      0      0      0      0      0      0\n",
            "       0      0      1      1      0]\n",
            " [  1181      2  22675      0      0      1      1      0      0      0\n",
            "       4      0      8      0      0]\n",
            " [   280      0      0    486      0      0      0      0      0      0\n",
            "       0      0      0      0      0]\n",
            " [    10      0      0      0    768      0      0      0      0      0\n",
            "       0      0      0      0      0]\n",
            " [    21      0      0      0      0     77    635      2      0     36\n",
            "       0      0      0      0      0]\n",
            " [    28      0      0      0      0      1    668      2      0      7\n",
            "       0      0      1      1      0]\n",
            " [     4      0      0      0      0      0      0    461      0    294\n",
            "       0      0      0      1      0]\n",
            " [     1      0      0      0      0      0      0      0   1161      0\n",
            "       3      0      0      0      0]\n",
            " [    23      0      0      0      0      1      0      1      1    823\n",
            "       0      0      0      0      0]\n",
            " [     5      0      0      0      0      0      1      0      0      1\n",
            "     899     15      0      0      0]\n",
            " [     6      0      0      0      0      0      0      0      0      1\n",
            "       8    815      0      1      0]\n",
            " [   350      0      0      0      0      0      1     21      0      0\n",
            "       0      0  33833      1      0]\n",
            " [    16      0      0      0      0      0      0     11      0      0\n",
            "       0      2      0   1480      0]\n",
            " [     0      0      0      0      0      0      0      0      0      0\n",
            "       0      0      0      0    784]]\n",
            "              precision    recall  f1-score   support\n",
            "\n",
            "           0       0.99      0.99      0.99    341009\n",
            "           1       1.00      0.99      0.99     19125\n",
            "           2       0.90      0.95      0.92     23872\n",
            "           3       0.77      0.63      0.70       766\n",
            "           4       0.99      0.99      0.99       778\n",
            "           5       0.93      0.10      0.18       771\n",
            "           6       0.48      0.94      0.64       708\n",
            "           7       0.83      0.61      0.70       760\n",
            "           8       1.00      1.00      1.00      1165\n",
            "           9       0.70      0.97      0.81       849\n",
            "          10       0.97      0.98      0.97       921\n",
            "          11       0.88      0.98      0.93       831\n",
            "          12       0.98      0.99      0.98     34206\n",
            "          13       0.99      0.98      0.98      1509\n",
            "          14       1.00      1.00      1.00       784\n",
            "\n",
            "    accuracy                           0.98    428054\n",
            "   macro avg       0.89      0.87      0.85    428054\n",
            "weighted avg       0.99      0.98      0.98    428054\n",
            "\n"
          ],
          "name": "stdout"
        }
      ]
    },
    {
      "cell_type": "code",
      "metadata": {
        "colab": {
          "base_uri": "https://localhost:8080/"
        },
        "id": "xwYCIspbt4g6",
        "outputId": "f0350710-49de-4f1c-a165-dc66094c05be"
      },
      "source": [
        "predictions[0]"
      ],
      "execution_count": null,
      "outputs": [
        {
          "output_type": "execute_result",
          "data": {
            "text/plain": [
              "array([ -0.37960762, -16.121174  ,   0.9474806 , -19.949036  ,\n",
              "       -17.043604  , -16.379002  , -16.275553  , -17.146511  ,\n",
              "       -20.958937  , -16.823114  , -16.545607  , -16.785376  ,\n",
              "       -15.685574  , -19.28801   , -18.654753  ], dtype=float32)"
            ]
          },
          "metadata": {
            "tags": []
          },
          "execution_count": 26
        }
      ]
    },
    {
      "cell_type": "code",
      "metadata": {
        "colab": {
          "base_uri": "https://localhost:8080/"
        },
        "id": "KIMICJ6DuEi5",
        "outputId": "e457e425-6e5a-4362-ed87-f05df6dfac07"
      },
      "source": [
        "Y_test[0]"
      ],
      "execution_count": null,
      "outputs": [
        {
          "output_type": "execute_result",
          "data": {
            "text/plain": [
              "array([2])"
            ]
          },
          "metadata": {
            "tags": []
          },
          "execution_count": 27
        }
      ]
    }
  ]
}