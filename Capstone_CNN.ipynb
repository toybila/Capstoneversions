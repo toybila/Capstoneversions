{
  "nbformat": 4,
  "nbformat_minor": 0,
  "metadata": {
    "colab": {
      "name": "Capstone CNN.ipynb",
      "provenance": [],
      "collapsed_sections": []
    },
    "kernelspec": {
      "name": "python3",
      "display_name": "Python 3"
    },
    "accelerator": "GPU"
  },
  "cells": [
    {
      "cell_type": "code",
      "metadata": {
        "id": "mHQZJrOl8jB7"
      },
      "source": [
        "import numpy as np\r\n",
        "import pandas as pd\r\n",
        "from sklearn.preprocessing import StandardScaler, LabelEncoder\r\n",
        "from sklearn.model_selection import train_test_split\r\n",
        "from keras.applications.vgg19 import preprocess_input\r\n",
        "import tensorflow as tf\r\n",
        "from tensorflow.keras import datasets, layers, models"
      ],
      "execution_count": null,
      "outputs": []
    },
    {
      "cell_type": "code",
      "metadata": {
        "id": "bEhIkSklFEqL"
      },
      "source": [
        "df = pd.read_csv('combined.csv')"
      ],
      "execution_count": null,
      "outputs": []
    },
    {
      "cell_type": "code",
      "metadata": {
        "id": "_E61yK3uFSHh",
        "colab": {
          "base_uri": "https://localhost:8080/"
        },
        "outputId": "5ee3b922-8557-4265-df32-270aee749f3f"
      },
      "source": [
        "label_array = df[' Label'].unique()\r\n",
        "count = 0\r\n",
        "for i in label_array:\r\n",
        "  df.loc[(df[' Label']== i),' Label']= count\r\n",
        "  print (i , count )\r\n",
        "  count += 1"
      ],
      "execution_count": null,
      "outputs": [
        {
          "output_type": "stream",
          "text": [
            "BENIGN 0\n",
            "DDoS 1\n",
            "PortScan 2\n",
            "Bot 3\n",
            "Infiltration 4\n",
            "Web Attack � Brute Force 5\n",
            "Web Attack � XSS 6\n",
            "Web Attack � Sql Injection 7\n",
            "FTP-Patator 8\n",
            "SSH-Patator 9\n",
            "DoS slowloris 10\n",
            "DoS Slowhttptest 11\n",
            "DoS Hulk 12\n",
            "DoS GoldenEye 13\n",
            "Heartbleed 14\n"
          ],
          "name": "stdout"
        }
      ]
    },
    {
      "cell_type": "code",
      "metadata": {
        "id": "eK6zKWEEFiGB"
      },
      "source": [
        "def clean_dataset(df):\r\n",
        "    assert isinstance(df, pd.DataFrame), \"df needs to be a pd.DataFrame\"\r\n",
        "    df.dropna(inplace=True)\r\n",
        "    indices_to_keep = ~df.isin([np.nan, np.inf, -np.inf]).any(1)\r\n",
        "    return df[indices_to_keep].astype(np.float64)"
      ],
      "execution_count": null,
      "outputs": []
    },
    {
      "cell_type": "code",
      "metadata": {
        "id": "VQ_rk8CbFpmm"
      },
      "source": [
        "df = clean_dataset(df)"
      ],
      "execution_count": null,
      "outputs": []
    },
    {
      "cell_type": "code",
      "metadata": {
        "id": "5zDMSn1JGLuq"
      },
      "source": [
        "dataset = df.values"
      ],
      "execution_count": null,
      "outputs": []
    },
    {
      "cell_type": "code",
      "metadata": {
        "id": "ERigaNJCGN9Z"
      },
      "source": [
        "X = dataset[:,0:78]"
      ],
      "execution_count": null,
      "outputs": []
    },
    {
      "cell_type": "code",
      "metadata": {
        "id": "DSCljsbRGfWX"
      },
      "source": [
        "Y =dataset[:,78]"
      ],
      "execution_count": null,
      "outputs": []
    },
    {
      "cell_type": "code",
      "metadata": {
        "id": "bgqLnYvlIkh9"
      },
      "source": [
        "Y=Y.astype(int)"
      ],
      "execution_count": null,
      "outputs": []
    },
    {
      "cell_type": "code",
      "metadata": {
        "id": "eSFtG0HxIlT7"
      },
      "source": [
        "scaler = StandardScaler()\r\n",
        "X = scaler.fit_transform(X)"
      ],
      "execution_count": null,
      "outputs": []
    },
    {
      "cell_type": "code",
      "metadata": {
        "id": "up51DX2wI1BY"
      },
      "source": [
        "X_train,X_val_test,Y_train,Y_val_test = train_test_split(X,Y,test_size = 0.3)"
      ],
      "execution_count": null,
      "outputs": []
    },
    {
      "cell_type": "code",
      "metadata": {
        "id": "NCCUclpoKI4-"
      },
      "source": [
        "X_val,X_test,Y_val,Y_test = train_test_split(X_val_test,Y_val_test,test_size = 0.5)"
      ],
      "execution_count": null,
      "outputs": []
    },
    {
      "cell_type": "code",
      "metadata": {
        "id": "egdKgTdrK0wY",
        "colab": {
          "base_uri": "https://localhost:8080/"
        },
        "outputId": "face7099-22c7-46b1-b926-2b22b6aa13a9"
      },
      "source": [
        "print(X_train.shape)"
      ],
      "execution_count": null,
      "outputs": [
        {
          "output_type": "stream",
          "text": [
            "(1979513, 78)\n"
          ],
          "name": "stdout"
        }
      ]
    },
    {
      "cell_type": "code",
      "metadata": {
        "id": "zWjeofZJK8bC"
      },
      "source": [
        "X_train = np.array([x.reshape(78,1) for x in X_train])\r\n",
        "X_test = np.array([x.reshape(78,1) for x in X_test])\r\n",
        "X_val = np.array([x.reshape(78,1) for x in X_val])"
      ],
      "execution_count": null,
      "outputs": []
    },
    {
      "cell_type": "code",
      "metadata": {
        "id": "r-PRa8S2PISy"
      },
      "source": [
        "Y_train = np.array([x.reshape(1) for x in Y_train])\r\n",
        "Y_test = np.array([x.reshape(1) for x in Y_test])\r\n",
        "Y_val = np.array([x.reshape(1) for x in Y_val])"
      ],
      "execution_count": null,
      "outputs": []
    },
    {
      "cell_type": "code",
      "metadata": {
        "id": "29xfL37JPeB0",
        "colab": {
          "base_uri": "https://localhost:8080/"
        },
        "outputId": "84132f7d-9892-4c86-e2eb-ac135f27f50e"
      },
      "source": [
        "X_train.shape"
      ],
      "execution_count": null,
      "outputs": [
        {
          "output_type": "execute_result",
          "data": {
            "text/plain": [
              "(1979513, 78, 1)"
            ]
          },
          "metadata": {
            "tags": []
          },
          "execution_count": 21
        }
      ]
    },
    {
      "cell_type": "code",
      "metadata": {
        "colab": {
          "base_uri": "https://localhost:8080/"
        },
        "id": "MtDnjB2_3w3y",
        "outputId": "50b80866-70ef-4f3a-d902-73ca696a5dc2"
      },
      "source": [
        "Y_train.shape"
      ],
      "execution_count": null,
      "outputs": [
        {
          "output_type": "execute_result",
          "data": {
            "text/plain": [
              "(1979513, 1)"
            ]
          },
          "metadata": {
            "tags": []
          },
          "execution_count": 25
        }
      ]
    },
    {
      "cell_type": "code",
      "metadata": {
        "id": "ril5Q4brogwv"
      },
      "source": [
        "model = models.Sequential()\r\n",
        "model.add(layers.Conv1D(32,5,activation='sigmoid',input_shape =(78,1)))\r\n",
        "model.add(layers.Conv1D(32,5,activation='sigmoid'))\r\n",
        "model.add(layers.MaxPool1D(2,1))\r\n",
        "model.add(layers.Conv1D(32,5,activation = 'sigmoid'))\r\n",
        "model.add(layers.MaxPool1D(2,1))\r\n",
        "model.add(layers.BatchNormalization(batch_size = 32))\r\n",
        "model.add(layers.Dropout(0.5))\r\n",
        "model.add(layers.Flatten())\r\n",
        "model.add(layers.Dense(64, activation='softmax'))\r\n",
        "model.add(layers.Dense(15))"
      ],
      "execution_count": 42,
      "outputs": []
    },
    {
      "cell_type": "code",
      "metadata": {
        "colab": {
          "base_uri": "https://localhost:8080/"
        },
        "id": "TixrtVps0EP2",
        "outputId": "e6d6067c-de9f-4f25-d05c-660260ce5169"
      },
      "source": [
        "model.summary()"
      ],
      "execution_count": 43,
      "outputs": [
        {
          "output_type": "stream",
          "text": [
            "Model: \"sequential_1\"\n",
            "_________________________________________________________________\n",
            "Layer (type)                 Output Shape              Param #   \n",
            "=================================================================\n",
            "conv1d_3 (Conv1D)            (None, 74, 32)            192       \n",
            "_________________________________________________________________\n",
            "conv1d_4 (Conv1D)            (None, 70, 32)            5152      \n",
            "_________________________________________________________________\n",
            "max_pooling1d_2 (MaxPooling1 (None, 69, 32)            0         \n",
            "_________________________________________________________________\n",
            "conv1d_5 (Conv1D)            (None, 65, 32)            5152      \n",
            "_________________________________________________________________\n",
            "max_pooling1d_3 (MaxPooling1 (None, 64, 32)            0         \n",
            "_________________________________________________________________\n",
            "batch_normalization_1 (Batch (None, 64, 32)            128       \n",
            "_________________________________________________________________\n",
            "dropout_1 (Dropout)          (None, 64, 32)            0         \n",
            "_________________________________________________________________\n",
            "flatten_1 (Flatten)          (None, 2048)              0         \n",
            "_________________________________________________________________\n",
            "dense_2 (Dense)              (None, 64)                131136    \n",
            "_________________________________________________________________\n",
            "dense_3 (Dense)              (None, 15)                975       \n",
            "=================================================================\n",
            "Total params: 142,735\n",
            "Trainable params: 142,671\n",
            "Non-trainable params: 64\n",
            "_________________________________________________________________\n"
          ],
          "name": "stdout"
        }
      ]
    },
    {
      "cell_type": "code",
      "metadata": {
        "colab": {
          "base_uri": "https://localhost:8080/"
        },
        "id": "TXsgtXlN0HzB",
        "outputId": "98f213d9-5ab2-4600-a897-a8dd9cd8abd4"
      },
      "source": [
        "model.compile(optimizer='adam',\r\n",
        "              loss=tf.keras.losses.SparseCategoricalCrossentropy(from_logits=True),\r\n",
        "              metrics=['accuracy'])\r\n",
        "\r\n",
        "history = model.fit(X_train, Y_train, epochs=10, \r\n",
        "                    validation_data=(X_val, Y_val))"
      ],
      "execution_count": 44,
      "outputs": [
        {
          "output_type": "stream",
          "text": [
            "Epoch 1/10\n",
            "61860/61860 [==============================] - 295s 5ms/step - loss: 0.4326 - accuracy: 0.9043 - val_loss: 0.0655 - val_accuracy: 0.9727\n",
            "Epoch 2/10\n",
            "61860/61860 [==============================] - 292s 5ms/step - loss: 0.0659 - accuracy: 0.9730 - val_loss: 0.0504 - val_accuracy: 0.9813\n",
            "Epoch 3/10\n",
            "61860/61860 [==============================] - 300s 5ms/step - loss: 0.0538 - accuracy: 0.9773 - val_loss: 0.0472 - val_accuracy: 0.9803\n",
            "Epoch 4/10\n",
            "61860/61860 [==============================] - 304s 5ms/step - loss: 0.0497 - accuracy: 0.9791 - val_loss: 0.0412 - val_accuracy: 0.9850\n",
            "Epoch 5/10\n",
            "61860/61860 [==============================] - 299s 5ms/step - loss: 0.0470 - accuracy: 0.9806 - val_loss: 0.0397 - val_accuracy: 0.9824\n",
            "Epoch 6/10\n",
            "61860/61860 [==============================] - 299s 5ms/step - loss: 0.0454 - accuracy: 0.9812 - val_loss: 0.0404 - val_accuracy: 0.9847\n",
            "Epoch 7/10\n",
            "61860/61860 [==============================] - 299s 5ms/step - loss: 0.0437 - accuracy: 0.9822 - val_loss: 0.0395 - val_accuracy: 0.9823\n",
            "Epoch 8/10\n",
            "61860/61860 [==============================] - 302s 5ms/step - loss: 0.0426 - accuracy: 0.9828 - val_loss: 0.0368 - val_accuracy: 0.9865\n",
            "Epoch 9/10\n",
            "61860/61860 [==============================] - 303s 5ms/step - loss: 0.0414 - accuracy: 0.9834 - val_loss: 0.0364 - val_accuracy: 0.9862\n",
            "Epoch 10/10\n",
            "61860/61860 [==============================] - 300s 5ms/step - loss: 0.0406 - accuracy: 0.9838 - val_loss: 0.0370 - val_accuracy: 0.9856\n"
          ],
          "name": "stdout"
        }
      ]
    },
    {
      "cell_type": "code",
      "metadata": {
        "colab": {
          "base_uri": "https://localhost:8080/"
        },
        "id": "2eWq7Svf-4rn",
        "outputId": "e41937a4-0f85-4b43-f7f4-121f64dd9bac"
      },
      "source": [
        "test_loss, test_acc = model.evaluate(X_test, Y_test, verbose=2)"
      ],
      "execution_count": 45,
      "outputs": [
        {
          "output_type": "stream",
          "text": [
            "13256/13256 - 25s - loss: 0.0373 - accuracy: 0.9857\n"
          ],
          "name": "stdout"
        }
      ]
    },
    {
      "cell_type": "code",
      "metadata": {
        "id": "1Fi977i-FDf7"
      },
      "source": [
        "predictions = model.predict(X_test)"
      ],
      "execution_count": 46,
      "outputs": []
    },
    {
      "cell_type": "code",
      "metadata": {
        "colab": {
          "base_uri": "https://localhost:8080/"
        },
        "id": "v_5DZs2-FGm5",
        "outputId": "716b5d79-73a5-479a-88c7-59fc0797cd00"
      },
      "source": [
        "predictions[1577]"
      ],
      "execution_count": 49,
      "outputs": [
        {
          "output_type": "execute_result",
          "data": {
            "text/plain": [
              "array([ -1.6217293, -13.742586 ,  -8.458064 , -35.684155 , -22.323708 ,\n",
              "        -3.1333838,  -3.740532 , -10.248486 , -21.918392 , -20.890314 ,\n",
              "       -19.317839 , -36.04591  , -13.049951 ,   3.7284348, -17.454838 ],\n",
              "      dtype=float32)"
            ]
          },
          "metadata": {
            "tags": []
          },
          "execution_count": 49
        }
      ]
    },
    {
      "cell_type": "code",
      "metadata": {
        "colab": {
          "base_uri": "https://localhost:8080/"
        },
        "id": "ZZeeeK34FWwY",
        "outputId": "ef94c69b-ed83-4ed4-8e88-69a6331a9f66"
      },
      "source": [
        "X_test[1577]"
      ],
      "execution_count": 51,
      "outputs": [
        {
          "output_type": "execute_result",
          "data": {
            "text/plain": [
              "array([[-4.36762359e-01],\n",
              "       [-9.41247873e-02],\n",
              "       [-3.15840755e-03],\n",
              "       [-5.41536574e-03],\n",
              "       [-2.00879534e-02],\n",
              "       [-2.00819607e-03],\n",
              "       [ 1.96783301e-01],\n",
              "       [-3.10317193e-01],\n",
              "       [-4.51146036e-02],\n",
              "       [ 2.23699812e-01],\n",
              "       [ 3.29519974e+00],\n",
              "       [-5.96523229e-01],\n",
              "       [ 3.33640163e+00],\n",
              "       [ 3.58981302e+00],\n",
              "       [-5.74664747e-02],\n",
              "       [-2.78494161e-01],\n",
              "       [-5.37328305e-02],\n",
              "       [-6.73967351e-02],\n",
              "       [-1.04810900e-01],\n",
              "       [-5.50666494e-02],\n",
              "       [-2.34216027e-01],\n",
              "       [-1.58210030e-01],\n",
              "       [-5.84703706e-02],\n",
              "       [-9.87203399e-02],\n",
              "       [-1.19004351e-01],\n",
              "       [ 5.89972762e-02],\n",
              "       [ 1.23747181e-01],\n",
              "       [ 3.07968123e-01],\n",
              "       [ 1.12854656e-01],\n",
              "       [-1.16452213e-01],\n",
              "       [-2.20574856e-01],\n",
              "       [ 0.00000000e+00],\n",
              "       [-1.05547824e-02],\n",
              "       [ 0.00000000e+00],\n",
              "       [ 1.24650535e-03],\n",
              "       [ 1.68181793e-03],\n",
              "       [-2.58140178e-01],\n",
              "       [-1.83436862e-01],\n",
              "       [-6.51540231e-01],\n",
              "       [ 3.12298504e+00],\n",
              "       [ 2.45257027e+00],\n",
              "       [ 3.10189852e+00],\n",
              "       [ 2.79212231e+00],\n",
              "       [-1.91240841e-01],\n",
              "       [-2.20574856e-01],\n",
              "       [-1.55770265e-02],\n",
              "       [ 1.53379083e+00],\n",
              "       [-6.78619996e-01],\n",
              "       [-3.23673001e-01],\n",
              "       [-1.05547824e-02],\n",
              "       [-1.56110582e-02],\n",
              "       [-1.00479299e+00],\n",
              "       [ 2.42864630e+00],\n",
              "       [-4.51146036e-02],\n",
              "       [ 3.33640163e+00],\n",
              "       [ 1.24650535e-03],\n",
              "       [ 0.00000000e+00],\n",
              "       [ 0.00000000e+00],\n",
              "       [ 0.00000000e+00],\n",
              "       [ 0.00000000e+00],\n",
              "       [ 0.00000000e+00],\n",
              "       [ 0.00000000e+00],\n",
              "       [-3.15840755e-03],\n",
              "       [-2.01141141e-02],\n",
              "       [-5.41536574e-03],\n",
              "       [-2.00807302e-03],\n",
              "       [ 1.54862436e+00],\n",
              "       [-2.07378605e-01],\n",
              "       [-6.94704787e-03],\n",
              "       [ 2.55771025e-03],\n",
              "       [-1.24378332e-01],\n",
              "       [-1.04619045e-01],\n",
              "       [-1.48505225e-01],\n",
              "       [-9.94713278e-02],\n",
              "       [-7.18013584e-02],\n",
              "       [-1.09516433e-01],\n",
              "       [-8.52225001e-02],\n",
              "       [-5.56611429e-02]])"
            ]
          },
          "metadata": {
            "tags": []
          },
          "execution_count": 51
        }
      ]
    },
    {
      "cell_type": "code",
      "metadata": {
        "id": "Nl2zPR71F1Gy"
      },
      "source": [
        ""
      ],
      "execution_count": null,
      "outputs": []
    }
  ]
}