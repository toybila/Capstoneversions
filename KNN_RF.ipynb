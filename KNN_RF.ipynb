{
  "nbformat": 4,
  "nbformat_minor": 0,
  "metadata": {
    "colab": {
      "name": "Copy of LinearSVM.ipynb",
      "provenance": []
    },
    "kernelspec": {
      "display_name": "Python 3",
      "name": "python3"
    }
  },
  "cells": [
    {
      "cell_type": "code",
      "metadata": {
        "id": "HebS5JAeeGFQ"
      },
      "source": [
        "import numpy as np\n",
        "import pandas as pd\n",
        "import urllib\n",
        "import sklearn\n",
        "from sklearn.model_selection import train_test_split\n",
        "from sklearn import metrics\n",
        "from sklearn.metrics import accuracy_score\n",
        "from sklearn.naive_bayes import BernoulliNB\n",
        "from sklearn.naive_bayes import GaussianNB\n",
        "from sklearn.naive_bayes import MultinomialNB\n",
        "from sklearn.ensemble import RandomForestRegressor\n",
        "from sklearn.model_selection import RandomizedSearchCV\n",
        "from sklearn.preprocessing import StandardScaler, LabelEncoder\n",
        "from sklearn.neighbors import KNeighborsClassifier\n",
        "from sklearn.metrics import classification_report\n",
        "from sklearn.model_selection import train_test_split\n",
        "from sklearn.metrics import roc_auc_score\n",
        "from sklearn.model_selection import GridSearchCV"
      ],
      "execution_count": null,
      "outputs": []
    },
    {
      "cell_type": "code",
      "metadata": {
        "id": "EGshSp10gfTA"
      },
      "source": [
        "df = pd.read_csv('combined.csv')"
      ],
      "execution_count": null,
      "outputs": []
    },
    {
      "cell_type": "code",
      "metadata": {
        "colab": {
          "base_uri": "https://localhost:8080/",
          "height": 275
        },
        "id": "uYArVBJZjDx5",
        "outputId": "1b64de34-0a6e-4fca-b307-ccaea47645e5"
      },
      "source": [
        "df.head()"
      ],
      "execution_count": null,
      "outputs": [
        {
          "output_type": "execute_result",
          "data": {
            "text/html": [
              "<div>\n",
              "<style scoped>\n",
              "    .dataframe tbody tr th:only-of-type {\n",
              "        vertical-align: middle;\n",
              "    }\n",
              "\n",
              "    .dataframe tbody tr th {\n",
              "        vertical-align: top;\n",
              "    }\n",
              "\n",
              "    .dataframe thead th {\n",
              "        text-align: right;\n",
              "    }\n",
              "</style>\n",
              "<table border=\"1\" class=\"dataframe\">\n",
              "  <thead>\n",
              "    <tr style=\"text-align: right;\">\n",
              "      <th></th>\n",
              "      <th>Destination Port</th>\n",
              "      <th>Flow Duration</th>\n",
              "      <th>Total Fwd Packets</th>\n",
              "      <th>Total Backward Packets</th>\n",
              "      <th>Total Length of Fwd Packets</th>\n",
              "      <th>Total Length of Bwd Packets</th>\n",
              "      <th>Fwd Packet Length Max</th>\n",
              "      <th>Fwd Packet Length Min</th>\n",
              "      <th>Fwd Packet Length Mean</th>\n",
              "      <th>Fwd Packet Length Std</th>\n",
              "      <th>Bwd Packet Length Max</th>\n",
              "      <th>Bwd Packet Length Min</th>\n",
              "      <th>Bwd Packet Length Mean</th>\n",
              "      <th>Bwd Packet Length Std</th>\n",
              "      <th>Flow Bytes/s</th>\n",
              "      <th>Flow Packets/s</th>\n",
              "      <th>Flow IAT Mean</th>\n",
              "      <th>Flow IAT Std</th>\n",
              "      <th>Flow IAT Max</th>\n",
              "      <th>Flow IAT Min</th>\n",
              "      <th>Fwd IAT Total</th>\n",
              "      <th>Fwd IAT Mean</th>\n",
              "      <th>Fwd IAT Std</th>\n",
              "      <th>Fwd IAT Max</th>\n",
              "      <th>Fwd IAT Min</th>\n",
              "      <th>Bwd IAT Total</th>\n",
              "      <th>Bwd IAT Mean</th>\n",
              "      <th>Bwd IAT Std</th>\n",
              "      <th>Bwd IAT Max</th>\n",
              "      <th>Bwd IAT Min</th>\n",
              "      <th>Fwd PSH Flags</th>\n",
              "      <th>Bwd PSH Flags</th>\n",
              "      <th>Fwd URG Flags</th>\n",
              "      <th>Bwd URG Flags</th>\n",
              "      <th>Fwd Header Length</th>\n",
              "      <th>Bwd Header Length</th>\n",
              "      <th>Fwd Packets/s</th>\n",
              "      <th>Bwd Packets/s</th>\n",
              "      <th>Min Packet Length</th>\n",
              "      <th>Max Packet Length</th>\n",
              "      <th>Packet Length Mean</th>\n",
              "      <th>Packet Length Std</th>\n",
              "      <th>Packet Length Variance</th>\n",
              "      <th>FIN Flag Count</th>\n",
              "      <th>SYN Flag Count</th>\n",
              "      <th>RST Flag Count</th>\n",
              "      <th>PSH Flag Count</th>\n",
              "      <th>ACK Flag Count</th>\n",
              "      <th>URG Flag Count</th>\n",
              "      <th>CWE Flag Count</th>\n",
              "      <th>ECE Flag Count</th>\n",
              "      <th>Down/Up Ratio</th>\n",
              "      <th>Average Packet Size</th>\n",
              "      <th>Avg Fwd Segment Size</th>\n",
              "      <th>Avg Bwd Segment Size</th>\n",
              "      <th>Fwd Header Length.1</th>\n",
              "      <th>Fwd Avg Bytes/Bulk</th>\n",
              "      <th>Fwd Avg Packets/Bulk</th>\n",
              "      <th>Fwd Avg Bulk Rate</th>\n",
              "      <th>Bwd Avg Bytes/Bulk</th>\n",
              "      <th>Bwd Avg Packets/Bulk</th>\n",
              "      <th>Bwd Avg Bulk Rate</th>\n",
              "      <th>Subflow Fwd Packets</th>\n",
              "      <th>Subflow Fwd Bytes</th>\n",
              "      <th>Subflow Bwd Packets</th>\n",
              "      <th>Subflow Bwd Bytes</th>\n",
              "      <th>Init_Win_bytes_forward</th>\n",
              "      <th>Init_Win_bytes_backward</th>\n",
              "      <th>act_data_pkt_fwd</th>\n",
              "      <th>min_seg_size_forward</th>\n",
              "      <th>Active Mean</th>\n",
              "      <th>Active Std</th>\n",
              "      <th>Active Max</th>\n",
              "      <th>Active Min</th>\n",
              "      <th>Idle Mean</th>\n",
              "      <th>Idle Std</th>\n",
              "      <th>Idle Max</th>\n",
              "      <th>Idle Min</th>\n",
              "      <th>Label</th>\n",
              "    </tr>\n",
              "  </thead>\n",
              "  <tbody>\n",
              "    <tr>\n",
              "      <th>0</th>\n",
              "      <td>54865</td>\n",
              "      <td>3</td>\n",
              "      <td>2</td>\n",
              "      <td>0</td>\n",
              "      <td>12</td>\n",
              "      <td>0</td>\n",
              "      <td>6</td>\n",
              "      <td>6</td>\n",
              "      <td>6.0</td>\n",
              "      <td>0.0</td>\n",
              "      <td>0</td>\n",
              "      <td>0</td>\n",
              "      <td>0.0</td>\n",
              "      <td>0.0</td>\n",
              "      <td>4.000000e+06</td>\n",
              "      <td>666666.66670</td>\n",
              "      <td>3.0</td>\n",
              "      <td>0.0</td>\n",
              "      <td>3</td>\n",
              "      <td>3</td>\n",
              "      <td>3</td>\n",
              "      <td>3.0</td>\n",
              "      <td>0.0</td>\n",
              "      <td>3</td>\n",
              "      <td>3</td>\n",
              "      <td>0</td>\n",
              "      <td>0.0</td>\n",
              "      <td>0.0</td>\n",
              "      <td>0</td>\n",
              "      <td>0</td>\n",
              "      <td>0</td>\n",
              "      <td>0</td>\n",
              "      <td>0</td>\n",
              "      <td>0</td>\n",
              "      <td>40</td>\n",
              "      <td>0</td>\n",
              "      <td>666666.666700</td>\n",
              "      <td>0.000000</td>\n",
              "      <td>6</td>\n",
              "      <td>6</td>\n",
              "      <td>6.0</td>\n",
              "      <td>0.0</td>\n",
              "      <td>0.0</td>\n",
              "      <td>0</td>\n",
              "      <td>0</td>\n",
              "      <td>0</td>\n",
              "      <td>0</td>\n",
              "      <td>1</td>\n",
              "      <td>0</td>\n",
              "      <td>0</td>\n",
              "      <td>0</td>\n",
              "      <td>0</td>\n",
              "      <td>9.0</td>\n",
              "      <td>6.0</td>\n",
              "      <td>0.0</td>\n",
              "      <td>40</td>\n",
              "      <td>0</td>\n",
              "      <td>0</td>\n",
              "      <td>0</td>\n",
              "      <td>0</td>\n",
              "      <td>0</td>\n",
              "      <td>0</td>\n",
              "      <td>2</td>\n",
              "      <td>12</td>\n",
              "      <td>0</td>\n",
              "      <td>0</td>\n",
              "      <td>33</td>\n",
              "      <td>-1</td>\n",
              "      <td>1</td>\n",
              "      <td>20</td>\n",
              "      <td>0.0</td>\n",
              "      <td>0.0</td>\n",
              "      <td>0</td>\n",
              "      <td>0</td>\n",
              "      <td>0.0</td>\n",
              "      <td>0.0</td>\n",
              "      <td>0</td>\n",
              "      <td>0</td>\n",
              "      <td>BENIGN</td>\n",
              "    </tr>\n",
              "    <tr>\n",
              "      <th>1</th>\n",
              "      <td>55054</td>\n",
              "      <td>109</td>\n",
              "      <td>1</td>\n",
              "      <td>1</td>\n",
              "      <td>6</td>\n",
              "      <td>6</td>\n",
              "      <td>6</td>\n",
              "      <td>6</td>\n",
              "      <td>6.0</td>\n",
              "      <td>0.0</td>\n",
              "      <td>6</td>\n",
              "      <td>6</td>\n",
              "      <td>6.0</td>\n",
              "      <td>0.0</td>\n",
              "      <td>1.100917e+05</td>\n",
              "      <td>18348.62385</td>\n",
              "      <td>109.0</td>\n",
              "      <td>0.0</td>\n",
              "      <td>109</td>\n",
              "      <td>109</td>\n",
              "      <td>0</td>\n",
              "      <td>0.0</td>\n",
              "      <td>0.0</td>\n",
              "      <td>0</td>\n",
              "      <td>0</td>\n",
              "      <td>0</td>\n",
              "      <td>0.0</td>\n",
              "      <td>0.0</td>\n",
              "      <td>0</td>\n",
              "      <td>0</td>\n",
              "      <td>0</td>\n",
              "      <td>0</td>\n",
              "      <td>0</td>\n",
              "      <td>0</td>\n",
              "      <td>20</td>\n",
              "      <td>20</td>\n",
              "      <td>9174.311927</td>\n",
              "      <td>9174.311927</td>\n",
              "      <td>6</td>\n",
              "      <td>6</td>\n",
              "      <td>6.0</td>\n",
              "      <td>0.0</td>\n",
              "      <td>0.0</td>\n",
              "      <td>0</td>\n",
              "      <td>0</td>\n",
              "      <td>0</td>\n",
              "      <td>0</td>\n",
              "      <td>1</td>\n",
              "      <td>1</td>\n",
              "      <td>0</td>\n",
              "      <td>0</td>\n",
              "      <td>1</td>\n",
              "      <td>9.0</td>\n",
              "      <td>6.0</td>\n",
              "      <td>6.0</td>\n",
              "      <td>20</td>\n",
              "      <td>0</td>\n",
              "      <td>0</td>\n",
              "      <td>0</td>\n",
              "      <td>0</td>\n",
              "      <td>0</td>\n",
              "      <td>0</td>\n",
              "      <td>1</td>\n",
              "      <td>6</td>\n",
              "      <td>1</td>\n",
              "      <td>6</td>\n",
              "      <td>29</td>\n",
              "      <td>256</td>\n",
              "      <td>0</td>\n",
              "      <td>20</td>\n",
              "      <td>0.0</td>\n",
              "      <td>0.0</td>\n",
              "      <td>0</td>\n",
              "      <td>0</td>\n",
              "      <td>0.0</td>\n",
              "      <td>0.0</td>\n",
              "      <td>0</td>\n",
              "      <td>0</td>\n",
              "      <td>BENIGN</td>\n",
              "    </tr>\n",
              "    <tr>\n",
              "      <th>2</th>\n",
              "      <td>55055</td>\n",
              "      <td>52</td>\n",
              "      <td>1</td>\n",
              "      <td>1</td>\n",
              "      <td>6</td>\n",
              "      <td>6</td>\n",
              "      <td>6</td>\n",
              "      <td>6</td>\n",
              "      <td>6.0</td>\n",
              "      <td>0.0</td>\n",
              "      <td>6</td>\n",
              "      <td>6</td>\n",
              "      <td>6.0</td>\n",
              "      <td>0.0</td>\n",
              "      <td>2.307692e+05</td>\n",
              "      <td>38461.53846</td>\n",
              "      <td>52.0</td>\n",
              "      <td>0.0</td>\n",
              "      <td>52</td>\n",
              "      <td>52</td>\n",
              "      <td>0</td>\n",
              "      <td>0.0</td>\n",
              "      <td>0.0</td>\n",
              "      <td>0</td>\n",
              "      <td>0</td>\n",
              "      <td>0</td>\n",
              "      <td>0.0</td>\n",
              "      <td>0.0</td>\n",
              "      <td>0</td>\n",
              "      <td>0</td>\n",
              "      <td>0</td>\n",
              "      <td>0</td>\n",
              "      <td>0</td>\n",
              "      <td>0</td>\n",
              "      <td>20</td>\n",
              "      <td>20</td>\n",
              "      <td>19230.769230</td>\n",
              "      <td>19230.769230</td>\n",
              "      <td>6</td>\n",
              "      <td>6</td>\n",
              "      <td>6.0</td>\n",
              "      <td>0.0</td>\n",
              "      <td>0.0</td>\n",
              "      <td>0</td>\n",
              "      <td>0</td>\n",
              "      <td>0</td>\n",
              "      <td>0</td>\n",
              "      <td>1</td>\n",
              "      <td>1</td>\n",
              "      <td>0</td>\n",
              "      <td>0</td>\n",
              "      <td>1</td>\n",
              "      <td>9.0</td>\n",
              "      <td>6.0</td>\n",
              "      <td>6.0</td>\n",
              "      <td>20</td>\n",
              "      <td>0</td>\n",
              "      <td>0</td>\n",
              "      <td>0</td>\n",
              "      <td>0</td>\n",
              "      <td>0</td>\n",
              "      <td>0</td>\n",
              "      <td>1</td>\n",
              "      <td>6</td>\n",
              "      <td>1</td>\n",
              "      <td>6</td>\n",
              "      <td>29</td>\n",
              "      <td>256</td>\n",
              "      <td>0</td>\n",
              "      <td>20</td>\n",
              "      <td>0.0</td>\n",
              "      <td>0.0</td>\n",
              "      <td>0</td>\n",
              "      <td>0</td>\n",
              "      <td>0.0</td>\n",
              "      <td>0.0</td>\n",
              "      <td>0</td>\n",
              "      <td>0</td>\n",
              "      <td>BENIGN</td>\n",
              "    </tr>\n",
              "    <tr>\n",
              "      <th>3</th>\n",
              "      <td>46236</td>\n",
              "      <td>34</td>\n",
              "      <td>1</td>\n",
              "      <td>1</td>\n",
              "      <td>6</td>\n",
              "      <td>6</td>\n",
              "      <td>6</td>\n",
              "      <td>6</td>\n",
              "      <td>6.0</td>\n",
              "      <td>0.0</td>\n",
              "      <td>6</td>\n",
              "      <td>6</td>\n",
              "      <td>6.0</td>\n",
              "      <td>0.0</td>\n",
              "      <td>3.529412e+05</td>\n",
              "      <td>58823.52941</td>\n",
              "      <td>34.0</td>\n",
              "      <td>0.0</td>\n",
              "      <td>34</td>\n",
              "      <td>34</td>\n",
              "      <td>0</td>\n",
              "      <td>0.0</td>\n",
              "      <td>0.0</td>\n",
              "      <td>0</td>\n",
              "      <td>0</td>\n",
              "      <td>0</td>\n",
              "      <td>0.0</td>\n",
              "      <td>0.0</td>\n",
              "      <td>0</td>\n",
              "      <td>0</td>\n",
              "      <td>0</td>\n",
              "      <td>0</td>\n",
              "      <td>0</td>\n",
              "      <td>0</td>\n",
              "      <td>20</td>\n",
              "      <td>20</td>\n",
              "      <td>29411.764710</td>\n",
              "      <td>29411.764710</td>\n",
              "      <td>6</td>\n",
              "      <td>6</td>\n",
              "      <td>6.0</td>\n",
              "      <td>0.0</td>\n",
              "      <td>0.0</td>\n",
              "      <td>0</td>\n",
              "      <td>0</td>\n",
              "      <td>0</td>\n",
              "      <td>0</td>\n",
              "      <td>1</td>\n",
              "      <td>1</td>\n",
              "      <td>0</td>\n",
              "      <td>0</td>\n",
              "      <td>1</td>\n",
              "      <td>9.0</td>\n",
              "      <td>6.0</td>\n",
              "      <td>6.0</td>\n",
              "      <td>20</td>\n",
              "      <td>0</td>\n",
              "      <td>0</td>\n",
              "      <td>0</td>\n",
              "      <td>0</td>\n",
              "      <td>0</td>\n",
              "      <td>0</td>\n",
              "      <td>1</td>\n",
              "      <td>6</td>\n",
              "      <td>1</td>\n",
              "      <td>6</td>\n",
              "      <td>31</td>\n",
              "      <td>329</td>\n",
              "      <td>0</td>\n",
              "      <td>20</td>\n",
              "      <td>0.0</td>\n",
              "      <td>0.0</td>\n",
              "      <td>0</td>\n",
              "      <td>0</td>\n",
              "      <td>0.0</td>\n",
              "      <td>0.0</td>\n",
              "      <td>0</td>\n",
              "      <td>0</td>\n",
              "      <td>BENIGN</td>\n",
              "    </tr>\n",
              "    <tr>\n",
              "      <th>4</th>\n",
              "      <td>54863</td>\n",
              "      <td>3</td>\n",
              "      <td>2</td>\n",
              "      <td>0</td>\n",
              "      <td>12</td>\n",
              "      <td>0</td>\n",
              "      <td>6</td>\n",
              "      <td>6</td>\n",
              "      <td>6.0</td>\n",
              "      <td>0.0</td>\n",
              "      <td>0</td>\n",
              "      <td>0</td>\n",
              "      <td>0.0</td>\n",
              "      <td>0.0</td>\n",
              "      <td>4.000000e+06</td>\n",
              "      <td>666666.66670</td>\n",
              "      <td>3.0</td>\n",
              "      <td>0.0</td>\n",
              "      <td>3</td>\n",
              "      <td>3</td>\n",
              "      <td>3</td>\n",
              "      <td>3.0</td>\n",
              "      <td>0.0</td>\n",
              "      <td>3</td>\n",
              "      <td>3</td>\n",
              "      <td>0</td>\n",
              "      <td>0.0</td>\n",
              "      <td>0.0</td>\n",
              "      <td>0</td>\n",
              "      <td>0</td>\n",
              "      <td>0</td>\n",
              "      <td>0</td>\n",
              "      <td>0</td>\n",
              "      <td>0</td>\n",
              "      <td>40</td>\n",
              "      <td>0</td>\n",
              "      <td>666666.666700</td>\n",
              "      <td>0.000000</td>\n",
              "      <td>6</td>\n",
              "      <td>6</td>\n",
              "      <td>6.0</td>\n",
              "      <td>0.0</td>\n",
              "      <td>0.0</td>\n",
              "      <td>0</td>\n",
              "      <td>0</td>\n",
              "      <td>0</td>\n",
              "      <td>0</td>\n",
              "      <td>1</td>\n",
              "      <td>0</td>\n",
              "      <td>0</td>\n",
              "      <td>0</td>\n",
              "      <td>0</td>\n",
              "      <td>9.0</td>\n",
              "      <td>6.0</td>\n",
              "      <td>0.0</td>\n",
              "      <td>40</td>\n",
              "      <td>0</td>\n",
              "      <td>0</td>\n",
              "      <td>0</td>\n",
              "      <td>0</td>\n",
              "      <td>0</td>\n",
              "      <td>0</td>\n",
              "      <td>2</td>\n",
              "      <td>12</td>\n",
              "      <td>0</td>\n",
              "      <td>0</td>\n",
              "      <td>32</td>\n",
              "      <td>-1</td>\n",
              "      <td>1</td>\n",
              "      <td>20</td>\n",
              "      <td>0.0</td>\n",
              "      <td>0.0</td>\n",
              "      <td>0</td>\n",
              "      <td>0</td>\n",
              "      <td>0.0</td>\n",
              "      <td>0.0</td>\n",
              "      <td>0</td>\n",
              "      <td>0</td>\n",
              "      <td>BENIGN</td>\n",
              "    </tr>\n",
              "  </tbody>\n",
              "</table>\n",
              "</div>"
            ],
            "text/plain": [
              "    Destination Port   Flow Duration  ...   Idle Min   Label\n",
              "0              54865               3  ...          0  BENIGN\n",
              "1              55054             109  ...          0  BENIGN\n",
              "2              55055              52  ...          0  BENIGN\n",
              "3              46236              34  ...          0  BENIGN\n",
              "4              54863               3  ...          0  BENIGN\n",
              "\n",
              "[5 rows x 79 columns]"
            ]
          },
          "metadata": {
            "tags": []
          },
          "execution_count": 4
        }
      ]
    },
    {
      "cell_type": "code",
      "metadata": {
        "id": "gMzqRCwgjaY1"
      },
      "source": [
        "label_array = df[' Label'].unique()"
      ],
      "execution_count": null,
      "outputs": []
    },
    {
      "cell_type": "code",
      "metadata": {
        "colab": {
          "base_uri": "https://localhost:8080/"
        },
        "id": "vvED5sDcjibY",
        "outputId": "d54c0191-19fa-4b86-f6c9-42ab3c2f4e04"
      },
      "source": [
        "df[' Label'].value_counts()"
      ],
      "execution_count": null,
      "outputs": [
        {
          "output_type": "execute_result",
          "data": {
            "text/plain": [
              "BENIGN                        2273097\n",
              "DoS Hulk                       231073\n",
              "PortScan                       158930\n",
              "DDoS                           128027\n",
              "DoS GoldenEye                   10293\n",
              "FTP-Patator                      7938\n",
              "SSH-Patator                      5897\n",
              "DoS slowloris                    5796\n",
              "DoS Slowhttptest                 5499\n",
              "Bot                              1966\n",
              "Web Attack � Brute Force         1507\n",
              "Web Attack � XSS                  652\n",
              "Infiltration                       36\n",
              "Web Attack � Sql Injection         21\n",
              "Heartbleed                         11\n",
              "Name:  Label, dtype: int64"
            ]
          },
          "metadata": {
            "tags": []
          },
          "execution_count": 6
        }
      ]
    },
    {
      "cell_type": "code",
      "metadata": {
        "colab": {
          "base_uri": "https://localhost:8080/"
        },
        "id": "ehFqavy_rSzu",
        "outputId": "058cd204-f976-4aa1-d897-fe7785db857f"
      },
      "source": [
        "count = 0\n",
        "for i in label_array:\n",
        "  df.loc[(df[' Label']== i),' Label']= count\n",
        "  print (i , count )\n",
        "  count += 1"
      ],
      "execution_count": null,
      "outputs": [
        {
          "output_type": "stream",
          "text": [
            "BENIGN 0\n",
            "DDoS 1\n",
            "PortScan 2\n",
            "Bot 3\n",
            "Infiltration 4\n",
            "Web Attack � Brute Force 5\n",
            "Web Attack � XSS 6\n",
            "Web Attack � Sql Injection 7\n",
            "FTP-Patator 8\n",
            "SSH-Patator 9\n",
            "DoS slowloris 10\n",
            "DoS Slowhttptest 11\n",
            "DoS Hulk 12\n",
            "DoS GoldenEye 13\n",
            "Heartbleed 14\n"
          ],
          "name": "stdout"
        }
      ]
    },
    {
      "cell_type": "code",
      "metadata": {
        "colab": {
          "base_uri": "https://localhost:8080/"
        },
        "id": "MLh8K6S5zx8J",
        "outputId": "a133ed2f-7698-4e7f-c500-48ea710aa9c2"
      },
      "source": [
        "df[' Label'].unique()"
      ],
      "execution_count": null,
      "outputs": [
        {
          "output_type": "execute_result",
          "data": {
            "text/plain": [
              "array([0, 1, 2, 3, 4, 5, 6, 7, 8, 9, 10, 11, 12, 13, 14], dtype=object)"
            ]
          },
          "metadata": {
            "tags": []
          },
          "execution_count": 8
        }
      ]
    },
    {
      "cell_type": "code",
      "metadata": {
        "id": "sMYlTbpPUc4f"
      },
      "source": [
        "def clean_dataset(df):\r\n",
        "    assert isinstance(df, pd.DataFrame), \"df needs to be a pd.DataFrame\"\r\n",
        "    df.dropna(inplace=True)\r\n",
        "    indices_to_keep = ~df.isin([np.nan, np.inf, -np.inf]).any(1)\r\n",
        "    return df[indices_to_keep].astype(np.float64)"
      ],
      "execution_count": null,
      "outputs": []
    },
    {
      "cell_type": "code",
      "metadata": {
        "id": "9ceZd-DUUfGg"
      },
      "source": [
        "df = clean_dataset(df)\r\n",
        "df.shape"
      ],
      "execution_count": null,
      "outputs": []
    },
    {
      "cell_type": "code",
      "metadata": {
        "id": "iHGpAcPwTsJ5"
      },
      "source": [
        "X = df.sample(frac=1.0, replace=False, random_state=1).drop([\" Label\"],axis=1)\r\n",
        "y = df.sample(frac=1.0, replace=False, random_state=1)[' Label']"
      ],
      "execution_count": null,
      "outputs": []
    },
    {
      "cell_type": "code",
      "metadata": {
        "colab": {
          "base_uri": "https://localhost:8080/"
        },
        "id": "-w95cmtvDWMs",
        "outputId": "34b3e950-90a2-4caf-afd9-b608e621f0b7"
      },
      "source": [
        "from imblearn.over_sampling import SMOTE\r\n",
        "up_dict = {3:5000,4:5000,5:5000,6:5000,7:5000,14:5000}\r\n",
        "over =SMOTE (sampling_strategy = up_dict)"
      ],
      "execution_count": null,
      "outputs": [
        {
          "output_type": "stream",
          "text": [
            "/usr/local/lib/python3.6/dist-packages/sklearn/externals/six.py:31: FutureWarning: The module is deprecated in version 0.21 and will be removed in version 0.23 since we've dropped support for Python 2.7. Please rely on the official version of six (https://pypi.org/project/six/).\n",
            "  \"(https://pypi.org/project/six/).\", FutureWarning)\n",
            "/usr/local/lib/python3.6/dist-packages/sklearn/utils/deprecation.py:144: FutureWarning: The sklearn.neighbors.base module is  deprecated in version 0.22 and will be removed in version 0.24. The corresponding classes / functions should instead be imported from sklearn.neighbors. Anything that cannot be imported from sklearn.neighbors is now part of the private API.\n",
            "  warnings.warn(message, FutureWarning)\n"
          ],
          "name": "stderr"
        }
      ]
    },
    {
      "cell_type": "code",
      "metadata": {
        "colab": {
          "base_uri": "https://localhost:8080/"
        },
        "id": "jP6QXbzHFdFX",
        "outputId": "eb0dcda2-5e9f-49b7-cef8-cd5e89bf0ba9"
      },
      "source": [
        "X,y = over.fit_resample(X, y)"
      ],
      "execution_count": null,
      "outputs": [
        {
          "output_type": "stream",
          "text": [
            "/usr/local/lib/python3.6/dist-packages/sklearn/utils/deprecation.py:87: FutureWarning: Function safe_indexing is deprecated; safe_indexing is deprecated in version 0.22 and will be removed in version 0.24.\n",
            "  warnings.warn(msg, category=FutureWarning)\n",
            "/usr/local/lib/python3.6/dist-packages/sklearn/utils/deprecation.py:87: FutureWarning: Function safe_indexing is deprecated; safe_indexing is deprecated in version 0.22 and will be removed in version 0.24.\n",
            "  warnings.warn(msg, category=FutureWarning)\n",
            "/usr/local/lib/python3.6/dist-packages/sklearn/utils/deprecation.py:87: FutureWarning: Function safe_indexing is deprecated; safe_indexing is deprecated in version 0.22 and will be removed in version 0.24.\n",
            "  warnings.warn(msg, category=FutureWarning)\n",
            "/usr/local/lib/python3.6/dist-packages/sklearn/utils/deprecation.py:87: FutureWarning: Function safe_indexing is deprecated; safe_indexing is deprecated in version 0.22 and will be removed in version 0.24.\n",
            "  warnings.warn(msg, category=FutureWarning)\n",
            "/usr/local/lib/python3.6/dist-packages/sklearn/utils/deprecation.py:87: FutureWarning: Function safe_indexing is deprecated; safe_indexing is deprecated in version 0.22 and will be removed in version 0.24.\n",
            "  warnings.warn(msg, category=FutureWarning)\n",
            "/usr/local/lib/python3.6/dist-packages/sklearn/utils/deprecation.py:87: FutureWarning: Function safe_indexing is deprecated; safe_indexing is deprecated in version 0.22 and will be removed in version 0.24.\n",
            "  warnings.warn(msg, category=FutureWarning)\n"
          ],
          "name": "stderr"
        }
      ]
    },
    {
      "cell_type": "code",
      "metadata": {
        "id": "nDjSCbItH8PQ",
        "colab": {
          "base_uri": "https://localhost:8080/",
          "height": 180
        },
        "outputId": "c0a03d7f-1a22-4e69-8a73-45b225822b0c"
      },
      "source": [
        "from collections import Counter\r\n",
        "counter =Counter(y)"
      ],
      "execution_count": null,
      "outputs": [
        {
          "output_type": "error",
          "ename": "NameError",
          "evalue": "ignored",
          "traceback": [
            "\u001b[0;31m---------------------------------------------------------------------------\u001b[0m",
            "\u001b[0;31mNameError\u001b[0m                                 Traceback (most recent call last)",
            "\u001b[0;32m<ipython-input-12-77f8cf8f70eb>\u001b[0m in \u001b[0;36m<module>\u001b[0;34m()\u001b[0m\n\u001b[1;32m      1\u001b[0m \u001b[0;32mfrom\u001b[0m \u001b[0mcollections\u001b[0m \u001b[0;32mimport\u001b[0m \u001b[0mCounter\u001b[0m\u001b[0;34m\u001b[0m\u001b[0;34m\u001b[0m\u001b[0m\n\u001b[0;32m----> 2\u001b[0;31m \u001b[0mcounter\u001b[0m \u001b[0;34m=\u001b[0m\u001b[0mCounter\u001b[0m\u001b[0;34m(\u001b[0m\u001b[0my\u001b[0m\u001b[0;34m)\u001b[0m\u001b[0;34m\u001b[0m\u001b[0;34m\u001b[0m\u001b[0m\n\u001b[0m",
            "\u001b[0;31mNameError\u001b[0m: name 'y' is not defined"
          ]
        }
      ]
    },
    {
      "cell_type": "code",
      "metadata": {
        "id": "96ifCVxn5q_y"
      },
      "source": [
        "scaler = StandardScaler()\r\n",
        "X = scaler.fit_transform(X)"
      ],
      "execution_count": null,
      "outputs": []
    },
    {
      "cell_type": "markdown",
      "metadata": {
        "id": "BZ0OcU5cQHEy"
      },
      "source": [
        "Feature Engineering"
      ]
    },
    {
      "cell_type": "code",
      "metadata": {
        "id": "rJraYdHSUNdl"
      },
      "source": [
        "# Instantiate model with 200 decision trees\r\n",
        "rf = RandomForestRegressor(n_estimators = 200, random_state = 42, n_jobs= -1)\r\n",
        "# Train the model on training data\r\n",
        "rf.fit(X, y);"
      ],
      "execution_count": null,
      "outputs": []
    },
    {
      "cell_type": "code",
      "metadata": {
        "colab": {
          "base_uri": "https://localhost:8080/"
        },
        "id": "hjs0RLh_WFRS",
        "outputId": "29643e40-9baf-40de-a937-b134e5b5033e"
      },
      "source": [
        "rf.feature_importances_"
      ],
      "execution_count": null,
      "outputs": [
        {
          "output_type": "execute_result",
          "data": {
            "text/plain": [
              "array([1.46478791e-01, 7.72568527e-04, 5.32431462e-04, 1.45306785e-04,\n",
              "       2.62551683e-02, 1.84842199e-04, 3.31901197e-04, 7.34322987e-04,\n",
              "       5.06974113e-04, 7.48947527e-02, 1.33705403e-04, 4.54048282e-05,\n",
              "       1.21721270e-04, 4.70326138e-02, 1.04419506e-02, 4.71920164e-04,\n",
              "       5.78267416e-03, 3.80999142e-04, 1.56534203e-04, 1.57470646e-03,\n",
              "       2.63989794e-04, 3.59625078e-04, 8.83767981e-05, 1.63101714e-04,\n",
              "       4.04482002e-03, 4.13739854e-05, 2.67392321e-03, 2.15878238e-05,\n",
              "       2.14873871e-05, 5.77140308e-04, 5.64502919e-04, 0.00000000e+00,\n",
              "       6.47585541e-09, 0.00000000e+00, 1.21592142e-04, 1.75925257e-04,\n",
              "       3.25986542e-03, 7.31292834e-02, 5.54527885e-04, 4.64667713e-04,\n",
              "       5.93465828e-03, 9.51249240e-05, 1.22148076e-04, 6.48757276e-03,\n",
              "       7.13004410e-04, 0.00000000e+00, 6.75906203e-04, 1.48460552e-04,\n",
              "       1.31305888e-04, 4.15031298e-09, 0.00000000e+00, 3.39057821e-05,\n",
              "       7.86893558e-04, 4.28053551e-04, 1.01576216e-04, 1.22684500e-04,\n",
              "       0.00000000e+00, 0.00000000e+00, 0.00000000e+00, 0.00000000e+00,\n",
              "       0.00000000e+00, 0.00000000e+00, 5.73631722e-04, 2.23755197e-02,\n",
              "       1.18826125e-04, 1.65341796e-04, 3.56853413e-02, 7.00683247e-02,\n",
              "       3.61422976e-05, 2.91638868e-02, 1.23130225e-03, 2.92390664e-03,\n",
              "       1.05097838e-03, 1.32879780e-03, 2.10032522e-01, 6.43011755e-05,\n",
              "       1.38845364e-05, 2.05880907e-01])"
            ]
          },
          "metadata": {
            "tags": []
          },
          "execution_count": 16
        }
      ]
    },
    {
      "cell_type": "code",
      "metadata": {
        "id": "ZXQzc0RNWeTd"
      },
      "source": [
        "feature_list = list(df.columns)"
      ],
      "execution_count": null,
      "outputs": []
    },
    {
      "cell_type": "code",
      "metadata": {
        "colab": {
          "base_uri": "https://localhost:8080/"
        },
        "id": "Ctx3f6FTWHPN",
        "outputId": "ca37488f-0f8e-454a-909f-d8ae5086c7f5"
      },
      "source": [
        "# Get numerical feature importances\r\n",
        "importances = list(rf.feature_importances_)\r\n",
        "# List of tuples with variable and importance\r\n",
        "feature_importances = [(feature, round(importance, 3)) for feature, importance in zip(feature_list, importances)]\r\n",
        "# Sort the feature importances by most important first\r\n",
        "feature_importances = sorted(feature_importances, key = lambda x: x[1], reverse = True)\r\n",
        "# Print out the feature and importances \r\n",
        "[print('Variable: {:20} Importance: {}'.format(*pair)) for pair in feature_importances];"
      ],
      "execution_count": null,
      "outputs": [
        {
          "output_type": "stream",
          "text": [
            "Variable: Idle Mean            Importance: 0.21\n",
            "Variable:  Idle Min            Importance: 0.206\n",
            "Variable:  Destination Port    Importance: 0.146\n",
            "Variable:  Fwd Packet Length Std Importance: 0.075\n",
            "Variable:  Bwd Packets/s       Importance: 0.073\n",
            "Variable:  Init_Win_bytes_backward Importance: 0.07\n",
            "Variable:  Bwd Packet Length Std Importance: 0.047\n",
            "Variable: Init_Win_bytes_forward Importance: 0.036\n",
            "Variable:  min_seg_size_forward Importance: 0.029\n",
            "Variable: Total Length of Fwd Packets Importance: 0.026\n",
            "Variable:  Subflow Fwd Bytes   Importance: 0.022\n",
            "Variable: Flow Bytes/s         Importance: 0.01\n",
            "Variable:  Flow IAT Mean       Importance: 0.006\n",
            "Variable:  Packet Length Mean  Importance: 0.006\n",
            "Variable: FIN Flag Count       Importance: 0.006\n",
            "Variable:  Fwd IAT Min         Importance: 0.004\n",
            "Variable:  Bwd IAT Mean        Importance: 0.003\n",
            "Variable: Fwd Packets/s        Importance: 0.003\n",
            "Variable:  Active Std          Importance: 0.003\n",
            "Variable:  Flow IAT Min        Importance: 0.002\n",
            "Variable:  Flow Duration       Importance: 0.001\n",
            "Variable:  Total Fwd Packets   Importance: 0.001\n",
            "Variable:  Fwd Packet Length Min Importance: 0.001\n",
            "Variable:  Fwd Packet Length Mean Importance: 0.001\n",
            "Variable:  Bwd IAT Min         Importance: 0.001\n",
            "Variable: Fwd PSH Flags        Importance: 0.001\n",
            "Variable:  Min Packet Length   Importance: 0.001\n",
            "Variable:  SYN Flag Count      Importance: 0.001\n",
            "Variable:  PSH Flag Count      Importance: 0.001\n",
            "Variable:  Average Packet Size Importance: 0.001\n",
            "Variable: Subflow Fwd Packets  Importance: 0.001\n",
            "Variable: Active Mean          Importance: 0.001\n",
            "Variable:  Active Max          Importance: 0.001\n",
            "Variable:  Active Min          Importance: 0.001\n",
            "Variable:  Total Backward Packets Importance: 0.0\n",
            "Variable:  Total Length of Bwd Packets Importance: 0.0\n",
            "Variable:  Fwd Packet Length Max Importance: 0.0\n",
            "Variable: Bwd Packet Length Max Importance: 0.0\n",
            "Variable:  Bwd Packet Length Min Importance: 0.0\n",
            "Variable:  Bwd Packet Length Mean Importance: 0.0\n",
            "Variable:  Flow Packets/s      Importance: 0.0\n",
            "Variable:  Flow IAT Std        Importance: 0.0\n",
            "Variable:  Flow IAT Max        Importance: 0.0\n",
            "Variable: Fwd IAT Total        Importance: 0.0\n",
            "Variable:  Fwd IAT Mean        Importance: 0.0\n",
            "Variable:  Fwd IAT Std         Importance: 0.0\n",
            "Variable:  Fwd IAT Max         Importance: 0.0\n",
            "Variable: Bwd IAT Total        Importance: 0.0\n",
            "Variable:  Bwd IAT Std         Importance: 0.0\n",
            "Variable:  Bwd IAT Max         Importance: 0.0\n",
            "Variable:  Bwd PSH Flags       Importance: 0.0\n",
            "Variable:  Fwd URG Flags       Importance: 0.0\n",
            "Variable:  Bwd URG Flags       Importance: 0.0\n",
            "Variable:  Fwd Header Length   Importance: 0.0\n",
            "Variable:  Bwd Header Length   Importance: 0.0\n",
            "Variable:  Max Packet Length   Importance: 0.0\n",
            "Variable:  Packet Length Std   Importance: 0.0\n",
            "Variable:  Packet Length Variance Importance: 0.0\n",
            "Variable:  RST Flag Count      Importance: 0.0\n",
            "Variable:  ACK Flag Count      Importance: 0.0\n",
            "Variable:  URG Flag Count      Importance: 0.0\n",
            "Variable:  CWE Flag Count      Importance: 0.0\n",
            "Variable:  ECE Flag Count      Importance: 0.0\n",
            "Variable:  Down/Up Ratio       Importance: 0.0\n",
            "Variable:  Avg Fwd Segment Size Importance: 0.0\n",
            "Variable:  Avg Bwd Segment Size Importance: 0.0\n",
            "Variable:  Fwd Header Length.1 Importance: 0.0\n",
            "Variable: Fwd Avg Bytes/Bulk   Importance: 0.0\n",
            "Variable:  Fwd Avg Packets/Bulk Importance: 0.0\n",
            "Variable:  Fwd Avg Bulk Rate   Importance: 0.0\n",
            "Variable:  Bwd Avg Bytes/Bulk  Importance: 0.0\n",
            "Variable:  Bwd Avg Packets/Bulk Importance: 0.0\n",
            "Variable: Bwd Avg Bulk Rate    Importance: 0.0\n",
            "Variable:  Subflow Bwd Packets Importance: 0.0\n",
            "Variable:  Subflow Bwd Bytes   Importance: 0.0\n",
            "Variable:  act_data_pkt_fwd    Importance: 0.0\n",
            "Variable:  Idle Std            Importance: 0.0\n",
            "Variable:  Idle Max            Importance: 0.0\n"
          ],
          "name": "stdout"
        }
      ]
    },
    {
      "cell_type": "code",
      "metadata": {
        "id": "nwtF0zpan1bV"
      },
      "source": [
        "#feature_importances\r\n",
        "to_drop = [value[0] for value in feature_importances if (value[1]< 0.01)]"
      ],
      "execution_count": null,
      "outputs": []
    },
    {
      "cell_type": "code",
      "metadata": {
        "colab": {
          "base_uri": "https://localhost:8080/"
        },
        "id": "nQjkOLr8pMsq",
        "outputId": "4809d8d4-c7a5-403b-9d98-1e7cc1e8ab8e"
      },
      "source": [
        "to_drop"
      ],
      "execution_count": null,
      "outputs": [
        {
          "output_type": "execute_result",
          "data": {
            "text/plain": [
              "[' Flow IAT Mean',\n",
              " ' Packet Length Mean',\n",
              " 'FIN Flag Count',\n",
              " ' Fwd IAT Min',\n",
              " ' Bwd IAT Mean',\n",
              " 'Fwd Packets/s',\n",
              " ' Active Std',\n",
              " ' Flow IAT Min',\n",
              " ' Flow Duration',\n",
              " ' Total Fwd Packets',\n",
              " ' Fwd Packet Length Min',\n",
              " ' Fwd Packet Length Mean',\n",
              " ' Bwd IAT Min',\n",
              " 'Fwd PSH Flags',\n",
              " ' Min Packet Length',\n",
              " ' SYN Flag Count',\n",
              " ' PSH Flag Count',\n",
              " ' Average Packet Size',\n",
              " 'Subflow Fwd Packets',\n",
              " 'Active Mean',\n",
              " ' Active Max',\n",
              " ' Active Min',\n",
              " ' Total Backward Packets',\n",
              " ' Total Length of Bwd Packets',\n",
              " ' Fwd Packet Length Max',\n",
              " 'Bwd Packet Length Max',\n",
              " ' Bwd Packet Length Min',\n",
              " ' Bwd Packet Length Mean',\n",
              " ' Flow Packets/s',\n",
              " ' Flow IAT Std',\n",
              " ' Flow IAT Max',\n",
              " 'Fwd IAT Total',\n",
              " ' Fwd IAT Mean',\n",
              " ' Fwd IAT Std',\n",
              " ' Fwd IAT Max',\n",
              " 'Bwd IAT Total',\n",
              " ' Bwd IAT Std',\n",
              " ' Bwd IAT Max',\n",
              " ' Bwd PSH Flags',\n",
              " ' Fwd URG Flags',\n",
              " ' Bwd URG Flags',\n",
              " ' Fwd Header Length',\n",
              " ' Bwd Header Length',\n",
              " ' Max Packet Length',\n",
              " ' Packet Length Std',\n",
              " ' Packet Length Variance',\n",
              " ' RST Flag Count',\n",
              " ' ACK Flag Count',\n",
              " ' URG Flag Count',\n",
              " ' CWE Flag Count',\n",
              " ' ECE Flag Count',\n",
              " ' Down/Up Ratio',\n",
              " ' Avg Fwd Segment Size',\n",
              " ' Avg Bwd Segment Size',\n",
              " ' Fwd Header Length.1',\n",
              " 'Fwd Avg Bytes/Bulk',\n",
              " ' Fwd Avg Packets/Bulk',\n",
              " ' Fwd Avg Bulk Rate',\n",
              " ' Bwd Avg Bytes/Bulk',\n",
              " ' Bwd Avg Packets/Bulk',\n",
              " 'Bwd Avg Bulk Rate',\n",
              " ' Subflow Bwd Packets',\n",
              " ' Subflow Bwd Bytes',\n",
              " ' act_data_pkt_fwd',\n",
              " ' Idle Std',\n",
              " ' Idle Max']"
            ]
          },
          "metadata": {
            "tags": []
          },
          "execution_count": 20
        }
      ]
    },
    {
      "cell_type": "code",
      "metadata": {
        "id": "w6hXxXdbfQLK"
      },
      "source": [
        "to_drop = [' Fwd IAT Min',\r\n",
        " ' Packet Length Mean',\r\n",
        " 'FIN Flag Count',\r\n",
        " 'Fwd Packets/s',\r\n",
        " ' Active Std',\r\n",
        " ' Flow Packets/s',\r\n",
        " 'Fwd PSH Flags',\r\n",
        " ' SYN Flag Count',\r\n",
        " ' Flow Duration',\r\n",
        " ' Total Fwd Packets',\r\n",
        " ' Total Backward Packets',\r\n",
        " ' Fwd Packet Length Max',\r\n",
        " ' Fwd Packet Length Min',\r\n",
        " ' Flow IAT Mean',\r\n",
        " ' Flow IAT Max',\r\n",
        " ' Flow IAT Min',\r\n",
        " 'Fwd IAT Total',\r\n",
        " ' Fwd IAT Mean',\r\n",
        " ' Fwd IAT Max',\r\n",
        " ' Bwd IAT Mean',\r\n",
        " ' Bwd IAT Min',\r\n",
        " ' Min Packet Length',\r\n",
        " ' Average Packet Size',\r\n",
        " 'Subflow Fwd Packets',\r\n",
        " ' Subflow Bwd Packets',\r\n",
        " 'Active Mean',\r\n",
        " ' Active Max',\r\n",
        " ' Active Min',\r\n",
        " ' Total Length of Bwd Packets',\r\n",
        " ' Fwd Packet Length Mean',\r\n",
        " 'Bwd Packet Length Max',\r\n",
        " ' Bwd Packet Length Min',\r\n",
        " ' Bwd Packet Length Mean',\r\n",
        " ' Flow IAT Std',\r\n",
        " ' Fwd IAT Std',\r\n",
        " 'Bwd IAT Total',\r\n",
        " ' Bwd IAT Std',\r\n",
        " ' Bwd IAT Max',\r\n",
        " ' Bwd PSH Flags',\r\n",
        " ' Fwd URG Flags',\r\n",
        " ' Bwd URG Flags',\r\n",
        " ' Fwd Header Length',\r\n",
        " ' Bwd Header Length',\r\n",
        " ' Max Packet Length',\r\n",
        " ' Packet Length Std',\r\n",
        " ' Packet Length Variance',\r\n",
        " ' RST Flag Count',\r\n",
        " ' PSH Flag Count',\r\n",
        " ' ACK Flag Count',\r\n",
        " ' URG Flag Count',\r\n",
        " ' CWE Flag Count',\r\n",
        " ' ECE Flag Count',\r\n",
        " ' Down/Up Ratio',\r\n",
        " ' Avg Fwd Segment Size',\r\n",
        " ' Avg Bwd Segment Size',\r\n",
        " ' Fwd Header Length.1',\r\n",
        " 'Fwd Avg Bytes/Bulk',\r\n",
        " ' Fwd Avg Packets/Bulk',\r\n",
        " ' Fwd Avg Bulk Rate',\r\n",
        " ' Bwd Avg Bytes/Bulk',\r\n",
        " ' Bwd Avg Packets/Bulk',\r\n",
        " 'Bwd Avg Bulk Rate',\r\n",
        " ' Subflow Bwd Bytes',\r\n",
        " ' act_data_pkt_fwd',\r\n",
        " ' Idle Std',\r\n",
        " ' Idle Max']"
      ],
      "execution_count": null,
      "outputs": []
    },
    {
      "cell_type": "code",
      "metadata": {
        "colab": {
          "base_uri": "https://localhost:8080/"
        },
        "id": "-V9DiDEWfXS3",
        "outputId": "d57f134d-89a9-4bc1-9433-fbfb4b2f8be3"
      },
      "source": [
        "to_drop"
      ],
      "execution_count": null,
      "outputs": [
        {
          "output_type": "execute_result",
          "data": {
            "text/plain": [
              "[' Fwd IAT Min',\n",
              " ' Packet Length Mean',\n",
              " 'FIN Flag Count',\n",
              " 'Fwd Packets/s',\n",
              " ' Active Std',\n",
              " ' Flow Packets/s',\n",
              " 'Fwd PSH Flags',\n",
              " ' SYN Flag Count',\n",
              " ' Flow Duration',\n",
              " ' Total Fwd Packets',\n",
              " ' Total Backward Packets',\n",
              " ' Fwd Packet Length Max',\n",
              " ' Fwd Packet Length Min',\n",
              " ' Flow IAT Mean',\n",
              " ' Flow IAT Max',\n",
              " ' Flow IAT Min',\n",
              " 'Fwd IAT Total',\n",
              " ' Fwd IAT Mean',\n",
              " ' Fwd IAT Max',\n",
              " ' Bwd IAT Mean',\n",
              " ' Bwd IAT Min',\n",
              " ' Min Packet Length',\n",
              " ' Average Packet Size',\n",
              " 'Subflow Fwd Packets',\n",
              " ' Subflow Bwd Packets',\n",
              " 'Active Mean',\n",
              " ' Active Max',\n",
              " ' Active Min',\n",
              " ' Total Length of Bwd Packets',\n",
              " ' Fwd Packet Length Mean',\n",
              " 'Bwd Packet Length Max',\n",
              " ' Bwd Packet Length Min',\n",
              " ' Bwd Packet Length Mean',\n",
              " ' Flow IAT Std',\n",
              " ' Fwd IAT Std',\n",
              " 'Bwd IAT Total',\n",
              " ' Bwd IAT Std',\n",
              " ' Bwd IAT Max',\n",
              " ' Bwd PSH Flags',\n",
              " ' Fwd URG Flags',\n",
              " ' Bwd URG Flags',\n",
              " ' Fwd Header Length',\n",
              " ' Bwd Header Length',\n",
              " ' Max Packet Length',\n",
              " ' Packet Length Std',\n",
              " ' Packet Length Variance',\n",
              " ' RST Flag Count',\n",
              " ' PSH Flag Count',\n",
              " ' ACK Flag Count',\n",
              " ' URG Flag Count',\n",
              " ' CWE Flag Count',\n",
              " ' ECE Flag Count',\n",
              " ' Down/Up Ratio',\n",
              " ' Avg Fwd Segment Size',\n",
              " ' Avg Bwd Segment Size',\n",
              " ' Fwd Header Length.1',\n",
              " 'Fwd Avg Bytes/Bulk',\n",
              " ' Fwd Avg Packets/Bulk',\n",
              " ' Fwd Avg Bulk Rate',\n",
              " ' Bwd Avg Bytes/Bulk',\n",
              " ' Bwd Avg Packets/Bulk',\n",
              " 'Bwd Avg Bulk Rate',\n",
              " ' Subflow Bwd Bytes',\n",
              " ' act_data_pkt_fwd',\n",
              " ' Idle Std',\n",
              " ' Idle Max']"
            ]
          },
          "metadata": {
            "tags": []
          },
          "execution_count": 5
        }
      ]
    },
    {
      "cell_type": "code",
      "metadata": {
        "colab": {
          "base_uri": "https://localhost:8080/"
        },
        "id": "dgLis8phi9di",
        "outputId": "73080bed-3c92-42e6-f120-63bd18646026"
      },
      "source": [
        "df1 =  df.drop(to_drop, axis=1)\r\n",
        "df1.shape"
      ],
      "execution_count": null,
      "outputs": [
        {
          "output_type": "execute_result",
          "data": {
            "text/plain": [
              "(2827876, 13)"
            ]
          },
          "metadata": {
            "tags": []
          },
          "execution_count": 14
        }
      ]
    },
    {
      "cell_type": "code",
      "metadata": {
        "colab": {
          "base_uri": "https://localhost:8080/",
          "height": 221
        },
        "id": "Vs4UlIoLnKJE",
        "outputId": "3eb228a2-ff1a-4614-f108-8c516271444b"
      },
      "source": [
        "df1.head()"
      ],
      "execution_count": null,
      "outputs": [
        {
          "output_type": "execute_result",
          "data": {
            "text/html": [
              "<div>\n",
              "<style scoped>\n",
              "    .dataframe tbody tr th:only-of-type {\n",
              "        vertical-align: middle;\n",
              "    }\n",
              "\n",
              "    .dataframe tbody tr th {\n",
              "        vertical-align: top;\n",
              "    }\n",
              "\n",
              "    .dataframe thead th {\n",
              "        text-align: right;\n",
              "    }\n",
              "</style>\n",
              "<table border=\"1\" class=\"dataframe\">\n",
              "  <thead>\n",
              "    <tr style=\"text-align: right;\">\n",
              "      <th></th>\n",
              "      <th>Destination Port</th>\n",
              "      <th>Total Length of Fwd Packets</th>\n",
              "      <th>Fwd Packet Length Std</th>\n",
              "      <th>Bwd Packet Length Std</th>\n",
              "      <th>Flow Bytes/s</th>\n",
              "      <th>Bwd Packets/s</th>\n",
              "      <th>Subflow Fwd Bytes</th>\n",
              "      <th>Init_Win_bytes_forward</th>\n",
              "      <th>Init_Win_bytes_backward</th>\n",
              "      <th>min_seg_size_forward</th>\n",
              "      <th>Idle Mean</th>\n",
              "      <th>Idle Min</th>\n",
              "      <th>Label</th>\n",
              "    </tr>\n",
              "  </thead>\n",
              "  <tbody>\n",
              "    <tr>\n",
              "      <th>0</th>\n",
              "      <td>54865.0</td>\n",
              "      <td>12.0</td>\n",
              "      <td>0.0</td>\n",
              "      <td>0.0</td>\n",
              "      <td>4.000000e+06</td>\n",
              "      <td>0.000000</td>\n",
              "      <td>12.0</td>\n",
              "      <td>33.0</td>\n",
              "      <td>-1.0</td>\n",
              "      <td>20.0</td>\n",
              "      <td>0.0</td>\n",
              "      <td>0.0</td>\n",
              "      <td>0.0</td>\n",
              "    </tr>\n",
              "    <tr>\n",
              "      <th>1</th>\n",
              "      <td>55054.0</td>\n",
              "      <td>6.0</td>\n",
              "      <td>0.0</td>\n",
              "      <td>0.0</td>\n",
              "      <td>1.100917e+05</td>\n",
              "      <td>9174.311927</td>\n",
              "      <td>6.0</td>\n",
              "      <td>29.0</td>\n",
              "      <td>256.0</td>\n",
              "      <td>20.0</td>\n",
              "      <td>0.0</td>\n",
              "      <td>0.0</td>\n",
              "      <td>0.0</td>\n",
              "    </tr>\n",
              "    <tr>\n",
              "      <th>2</th>\n",
              "      <td>55055.0</td>\n",
              "      <td>6.0</td>\n",
              "      <td>0.0</td>\n",
              "      <td>0.0</td>\n",
              "      <td>2.307692e+05</td>\n",
              "      <td>19230.769230</td>\n",
              "      <td>6.0</td>\n",
              "      <td>29.0</td>\n",
              "      <td>256.0</td>\n",
              "      <td>20.0</td>\n",
              "      <td>0.0</td>\n",
              "      <td>0.0</td>\n",
              "      <td>0.0</td>\n",
              "    </tr>\n",
              "    <tr>\n",
              "      <th>3</th>\n",
              "      <td>46236.0</td>\n",
              "      <td>6.0</td>\n",
              "      <td>0.0</td>\n",
              "      <td>0.0</td>\n",
              "      <td>3.529412e+05</td>\n",
              "      <td>29411.764710</td>\n",
              "      <td>6.0</td>\n",
              "      <td>31.0</td>\n",
              "      <td>329.0</td>\n",
              "      <td>20.0</td>\n",
              "      <td>0.0</td>\n",
              "      <td>0.0</td>\n",
              "      <td>0.0</td>\n",
              "    </tr>\n",
              "    <tr>\n",
              "      <th>4</th>\n",
              "      <td>54863.0</td>\n",
              "      <td>12.0</td>\n",
              "      <td>0.0</td>\n",
              "      <td>0.0</td>\n",
              "      <td>4.000000e+06</td>\n",
              "      <td>0.000000</td>\n",
              "      <td>12.0</td>\n",
              "      <td>32.0</td>\n",
              "      <td>-1.0</td>\n",
              "      <td>20.0</td>\n",
              "      <td>0.0</td>\n",
              "      <td>0.0</td>\n",
              "      <td>0.0</td>\n",
              "    </tr>\n",
              "  </tbody>\n",
              "</table>\n",
              "</div>"
            ],
            "text/plain": [
              "    Destination Port  Total Length of Fwd Packets  ...   Idle Min   Label\n",
              "0            54865.0                         12.0  ...        0.0     0.0\n",
              "1            55054.0                          6.0  ...        0.0     0.0\n",
              "2            55055.0                          6.0  ...        0.0     0.0\n",
              "3            46236.0                          6.0  ...        0.0     0.0\n",
              "4            54863.0                         12.0  ...        0.0     0.0\n",
              "\n",
              "[5 rows x 13 columns]"
            ]
          },
          "metadata": {
            "tags": []
          },
          "execution_count": 14
        }
      ]
    },
    {
      "cell_type": "code",
      "metadata": {
        "id": "gOrNJmDojElw"
      },
      "source": [
        "X = df1.drop([\" Label\"],axis=1)\r\n",
        "y = df1[\" Label\"]"
      ],
      "execution_count": null,
      "outputs": []
    },
    {
      "cell_type": "code",
      "metadata": {
        "id": "5y0m_Bav5roQ"
      },
      "source": [
        "# Use if needing to run a sample of dataset\r\n",
        "#X = df1.sample(frac=1.0, replace=False, random_state=1).drop([\" Label\"],axis=1)\r\n",
        "#y = df1.sample(frac=1.0, replace=False, random_state=1)[' Label']"
      ],
      "execution_count": null,
      "outputs": []
    },
    {
      "cell_type": "code",
      "metadata": {
        "colab": {
          "base_uri": "https://localhost:8080/"
        },
        "id": "PW_ZoBbZKJb9",
        "outputId": "1f1eab64-e905-4a60-f7b9-891989b9c953"
      },
      "source": [
        "X,y = over.fit_resample(X,y)"
      ],
      "execution_count": null,
      "outputs": [
        {
          "output_type": "stream",
          "text": [
            "/usr/local/lib/python3.6/dist-packages/sklearn/utils/deprecation.py:87: FutureWarning: Function safe_indexing is deprecated; safe_indexing is deprecated in version 0.22 and will be removed in version 0.24.\n",
            "  warnings.warn(msg, category=FutureWarning)\n",
            "/usr/local/lib/python3.6/dist-packages/sklearn/utils/deprecation.py:87: FutureWarning: Function safe_indexing is deprecated; safe_indexing is deprecated in version 0.22 and will be removed in version 0.24.\n",
            "  warnings.warn(msg, category=FutureWarning)\n",
            "/usr/local/lib/python3.6/dist-packages/sklearn/utils/deprecation.py:87: FutureWarning: Function safe_indexing is deprecated; safe_indexing is deprecated in version 0.22 and will be removed in version 0.24.\n",
            "  warnings.warn(msg, category=FutureWarning)\n",
            "/usr/local/lib/python3.6/dist-packages/sklearn/utils/deprecation.py:87: FutureWarning: Function safe_indexing is deprecated; safe_indexing is deprecated in version 0.22 and will be removed in version 0.24.\n",
            "  warnings.warn(msg, category=FutureWarning)\n",
            "/usr/local/lib/python3.6/dist-packages/sklearn/utils/deprecation.py:87: FutureWarning: Function safe_indexing is deprecated; safe_indexing is deprecated in version 0.22 and will be removed in version 0.24.\n",
            "  warnings.warn(msg, category=FutureWarning)\n",
            "/usr/local/lib/python3.6/dist-packages/sklearn/utils/deprecation.py:87: FutureWarning: Function safe_indexing is deprecated; safe_indexing is deprecated in version 0.22 and will be removed in version 0.24.\n",
            "  warnings.warn(msg, category=FutureWarning)\n"
          ],
          "name": "stderr"
        }
      ]
    },
    {
      "cell_type": "code",
      "metadata": {
        "colab": {
          "base_uri": "https://localhost:8080/"
        },
        "id": "pf4UU3xmKdD1",
        "outputId": "35a5008d-8588-4a64-f538-f643c3bdd715"
      },
      "source": [
        "counter = Counter(y)\r\n",
        "counter"
      ],
      "execution_count": null,
      "outputs": [
        {
          "output_type": "execute_result",
          "data": {
            "text/plain": [
              "Counter({0.0: 2271320,\n",
              "         1.0: 128025,\n",
              "         2.0: 158804,\n",
              "         3.0: 5000,\n",
              "         4.0: 5000,\n",
              "         5.0: 5000,\n",
              "         6.0: 5000,\n",
              "         7.0: 5000,\n",
              "         8.0: 7935,\n",
              "         9.0: 5897,\n",
              "         10.0: 5796,\n",
              "         11.0: 5499,\n",
              "         12.0: 230124,\n",
              "         13.0: 10293,\n",
              "         14.0: 5000})"
            ]
          },
          "metadata": {
            "tags": []
          },
          "execution_count": 20
        }
      ]
    },
    {
      "cell_type": "code",
      "metadata": {
        "id": "Xd-dPYN09fiO"
      },
      "source": [
        "#from sklearn.neighbors import KNeighborsClassifier\r\n",
        "#List Hyperparameters that we want to tune.\r\n",
        "leaf_size = list(range(1,50))\r\n",
        "n_neighbors = list(range(1,30))\r\n",
        "p=[1,2]\r\n",
        "#Convert to dictionary\r\n",
        "hyperparameters = dict(leaf_size=leaf_size, n_neighbors=n_neighbors, p=p)\r\n",
        "#Create new KNN object\r\n",
        "knn_2 = KNeighborsClassifier()\r\n",
        "#Use GridSearch\r\n",
        "clf = GridSearchCV(knn_2, hyperparameters, cv=10,n_jobs=-1)\r\n",
        "#Fit the model\r\n",
        "best_model = clf.fit(X,y)\r\n",
        "#Print The value of best Hyperparameters\r\n",
        "print('Best leaf_size:', best_model.best_estimator_.get_params()['leaf_size'])\r\n",
        "print('Best p:', best_model.best_estimator_.get_params()['p'])\r\n",
        "print('Best n_neighbors:', best_model.best_estimator_.get_params()['n_neighbors'])"
      ],
      "execution_count": null,
      "outputs": []
    },
    {
      "cell_type": "code",
      "metadata": {
        "colab": {
          "base_uri": "https://localhost:8080/"
        },
        "id": "TNOOdDOVSBRO",
        "outputId": "312ac213-2f50-4aff-e974-0117286928d5"
      },
      "source": [
        "# Number of trees in random forest\r\n",
        "n_estimators = [int(x) for x in np.linspace(start = 100, stop = 300 , num = 3)]\r\n",
        "# Number of features to consider at every split\r\n",
        "max_features = ['auto', 'sqrt']\r\n",
        "# Maximum number of levels in tree\r\n",
        "max_depth = [int(x) for x in np.linspace(10, 30, num = 3)]\r\n",
        "#max_depth.append(None)\r\n",
        "# Minimum number of samples required to split a node\r\n",
        "min_samples_split = [2, 5, 10]\r\n",
        "# Minimum number of samples required at each leaf node\r\n",
        "min_samples_leaf = [1, 2, 4]\r\n",
        "# Method of selecting samples for training each tree\r\n",
        "bootstrap = [True, False]\r\n",
        "# Create the random grid\r\n",
        "random_grid = {'n_estimators': n_estimators,\r\n",
        "               'max_depth': max_depth}\r\n",
        "print(random_grid)"
      ],
      "execution_count": null,
      "outputs": [
        {
          "output_type": "stream",
          "text": [
            "{'n_estimators': [100, 200, 300], 'max_depth': [10, 20, 30]}\n"
          ],
          "name": "stdout"
        }
      ]
    },
    {
      "cell_type": "code",
      "metadata": {
        "colab": {
          "base_uri": "https://localhost:8080/"
        },
        "id": "m9BaYfB0kqpb",
        "outputId": "97f49232-3ef0-4011-b46c-5a48bd1873b3"
      },
      "source": [
        "# Use the random grid to search for best hyperparameters\r\n",
        "# First create the base model to tune\r\n",
        "rf = RandomForestRegressor()\r\n",
        "# Random search of parameters, using 3 fold cross validation, \r\n",
        "# search across 100 different combinations, and use all available cores\r\n",
        "rf_random = RandomizedSearchCV(estimator = rf, param_distributions = random_grid, n_iter = 100, cv = 3, verbose=2, random_state=42, n_jobs = -1)\r\n",
        "# Fit the random search model\r\n",
        "rf_random.fit(X_train, Y_train)"
      ],
      "execution_count": null,
      "outputs": [
        {
          "output_type": "stream",
          "text": [
            "Fitting 3 folds for each of 9 candidates, totalling 27 fits\n"
          ],
          "name": "stdout"
        },
        {
          "output_type": "stream",
          "text": [
            "/usr/local/lib/python3.6/dist-packages/sklearn/model_selection/_search.py:281: UserWarning: The total space of parameters 9 is smaller than n_iter=100. Running 9 iterations. For exhaustive searches, use GridSearchCV.\n",
            "  % (grid_size, self.n_iter, grid_size), UserWarning)\n",
            "[Parallel(n_jobs=-1)]: Using backend LokyBackend with 2 concurrent workers.\n",
            "[Parallel(n_jobs=-1)]: Done  27 out of  27 | elapsed: 165.3min finished\n"
          ],
          "name": "stderr"
        },
        {
          "output_type": "execute_result",
          "data": {
            "text/plain": [
              "RandomizedSearchCV(cv=3, error_score=nan,\n",
              "                   estimator=RandomForestRegressor(bootstrap=True,\n",
              "                                                   ccp_alpha=0.0,\n",
              "                                                   criterion='mse',\n",
              "                                                   max_depth=None,\n",
              "                                                   max_features='auto',\n",
              "                                                   max_leaf_nodes=None,\n",
              "                                                   max_samples=None,\n",
              "                                                   min_impurity_decrease=0.0,\n",
              "                                                   min_impurity_split=None,\n",
              "                                                   min_samples_leaf=1,\n",
              "                                                   min_samples_split=2,\n",
              "                                                   min_weight_fraction_leaf=0.0,\n",
              "                                                   n_estimators=100,\n",
              "                                                   n_jobs=None, oob_score=False,\n",
              "                                                   random_state=None, verbose=0,\n",
              "                                                   warm_start=False),\n",
              "                   iid='deprecated', n_iter=100, n_jobs=-1,\n",
              "                   param_distributions={'max_depth': [10, 20, 30],\n",
              "                                        'n_estimators': [100, 200, 300]},\n",
              "                   pre_dispatch='2*n_jobs', random_state=42, refit=True,\n",
              "                   return_train_score=False, scoring=None, verbose=2)"
            ]
          },
          "metadata": {
            "tags": []
          },
          "execution_count": 17
        }
      ]
    },
    {
      "cell_type": "code",
      "metadata": {
        "colab": {
          "base_uri": "https://localhost:8080/"
        },
        "id": "iwoV5iShkzoZ",
        "outputId": "6784d655-24b4-403b-86cf-58621f720122"
      },
      "source": [
        "rf_random.best_params_"
      ],
      "execution_count": null,
      "outputs": [
        {
          "output_type": "execute_result",
          "data": {
            "text/plain": [
              "{'max_depth': 20, 'n_estimators': 300}"
            ]
          },
          "metadata": {
            "tags": []
          },
          "execution_count": 18
        }
      ]
    },
    {
      "cell_type": "code",
      "metadata": {
        "colab": {
          "base_uri": "https://localhost:8080/"
        },
        "id": "b_1gKCiS7_Ol",
        "outputId": "d01a36e6-ec47-4953-c7e9-c68e672da52d"
      },
      "source": [
        "rf_random.cv_results_"
      ],
      "execution_count": null,
      "outputs": [
        {
          "output_type": "execute_result",
          "data": {
            "text/plain": [
              "{'mean_fit_time': array([ 303.41119123,  632.28849769,  963.67708151,  367.65055648,\n",
              "         789.42902589, 1146.28214788,  372.31783279,  769.53100642,\n",
              "        1083.81237976]),\n",
              " 'mean_score_time': array([1.72900168, 3.33043512, 5.08037202, 2.01834615, 4.08749072,\n",
              "        6.10747131, 2.04304099, 4.06144261, 5.49980124]),\n",
              " 'mean_test_score': array([0.9856481 , 0.98569296, 0.98572705, 0.99391485, 0.99393573,\n",
              "        0.99394015, 0.99392842, 0.99391639, 0.99391006]),\n",
              " 'param_max_depth': masked_array(data=[10, 10, 10, 20, 20, 20, 30, 30, 30],\n",
              "              mask=[False, False, False, False, False, False, False, False,\n",
              "                    False],\n",
              "        fill_value='?',\n",
              "             dtype=object),\n",
              " 'param_n_estimators': masked_array(data=[100, 200, 300, 100, 200, 300, 100, 200, 300],\n",
              "              mask=[False, False, False, False, False, False, False, False,\n",
              "                    False],\n",
              "        fill_value='?',\n",
              "             dtype=object),\n",
              " 'params': [{'max_depth': 10, 'n_estimators': 100},\n",
              "  {'max_depth': 10, 'n_estimators': 200},\n",
              "  {'max_depth': 10, 'n_estimators': 300},\n",
              "  {'max_depth': 20, 'n_estimators': 100},\n",
              "  {'max_depth': 20, 'n_estimators': 200},\n",
              "  {'max_depth': 20, 'n_estimators': 300},\n",
              "  {'max_depth': 30, 'n_estimators': 100},\n",
              "  {'max_depth': 30, 'n_estimators': 200},\n",
              "  {'max_depth': 30, 'n_estimators': 300}],\n",
              " 'rank_test_score': array([9, 8, 7, 5, 2, 1, 3, 4, 6], dtype=int32),\n",
              " 'split0_test_score': array([0.98553091, 0.98562322, 0.98564107, 0.99398096, 0.99404015,\n",
              "        0.99404808, 0.99401618, 0.9939929 , 0.99399899]),\n",
              " 'split1_test_score': array([0.98623266, 0.98623322, 0.98620722, 0.9935097 , 0.99347876,\n",
              "        0.99346615, 0.99346916, 0.99347351, 0.99347966]),\n",
              " 'split2_test_score': array([0.98518073, 0.98522244, 0.98533285, 0.9942539 , 0.99428829,\n",
              "        0.99430623, 0.99429993, 0.99428276, 0.99425154]),\n",
              " 'std_fit_time': array([  2.46170304,  34.4054762 ,  47.39892407,  15.46165183,\n",
              "         40.54297181,  46.86865724,   8.62293234,  33.56275506,\n",
              "        192.8729548 ]),\n",
              " 'std_score_time': array([0.04586627, 0.01341261, 0.03778826, 0.06222871, 0.1351296 ,\n",
              "        0.08766629, 0.02058918, 0.05170642, 1.25961623]),\n",
              " 'std_test_score': array([0.00043737, 0.00041558, 0.0003621 , 0.00030739, 0.00033864,\n",
              "        0.00035135, 0.00034479, 0.00033477, 0.00032133])}"
            ]
          },
          "metadata": {
            "tags": []
          },
          "execution_count": 27
        }
      ]
    },
    {
      "cell_type": "code",
      "metadata": {
        "id": "LjUfygyXqW45"
      },
      "source": [
        "y_pred = rf_random.best_estimator_.predict(X_test)"
      ],
      "execution_count": null,
      "outputs": []
    },
    {
      "cell_type": "code",
      "metadata": {
        "id": "mh7cb5UnjVXg"
      },
      "source": [
        "X_train, X_test, Y_train, Y_test = train_test_split(X,y,test_size=0.3,random_state=42)"
      ],
      "execution_count": null,
      "outputs": []
    },
    {
      "cell_type": "code",
      "metadata": {
        "id": "V-HmJXCYf1oE"
      },
      "source": [
        "\r\n",
        "X_train = scaler.fit_transform(X_train)\r\n",
        "X_test = scaler.transform(X_test)"
      ],
      "execution_count": null,
      "outputs": []
    },
    {
      "cell_type": "code",
      "metadata": {
        "colab": {
          "background_save": true
        },
        "id": "FWcIvwnFLe_n"
      },
      "source": [
        "# Instantiate model with 300 decision trees\r\n",
        "rf = RandomForestRegressor(n_estimators = 300, max_depth=20, random_state = 42, n_jobs=-1)\r\n",
        "# Train the model on training data\r\n",
        "rf.fit(X_train, Y_train);"
      ],
      "execution_count": null,
      "outputs": []
    },
    {
      "cell_type": "code",
      "metadata": {
        "colab": {
          "base_uri": "https://localhost:8080/"
        },
        "id": "Wej7-e3T_dcd",
        "outputId": "38c85591-5c2c-43aa-bcf6-c817f8d09c70"
      },
      "source": [
        "from sklearn.neighbors import KNeighborsClassifier\r\n",
        "KNN_Classifier = KNeighborsClassifier(n_jobs=-1, n_neighbors=3, metric='minkowski', algorithm='auto')\r\n",
        "KNN_Classifier.fit(X_train,Y_train)"
      ],
      "execution_count": null,
      "outputs": [
        {
          "output_type": "execute_result",
          "data": {
            "text/plain": [
              "KNeighborsClassifier(algorithm='auto', leaf_size=30, metric='minkowski',\n",
              "                     metric_params=None, n_jobs=-1, n_neighbors=3, p=2,\n",
              "                     weights='uniform')"
            ]
          },
          "metadata": {
            "tags": []
          },
          "execution_count": 34
        }
      ]
    },
    {
      "cell_type": "code",
      "metadata": {
        "id": "R6APB1x8PaLr"
      },
      "source": [
        "y_pred=KNN_Classifier.predict(X_test)"
      ],
      "execution_count": null,
      "outputs": []
    },
    {
      "cell_type": "code",
      "metadata": {
        "id": "8YtAYLMIQ8PR"
      },
      "source": [
        "y_pred = y_pred.astype(int)"
      ],
      "execution_count": null,
      "outputs": []
    },
    {
      "cell_type": "code",
      "metadata": {
        "colab": {
          "base_uri": "https://localhost:8080/"
        },
        "id": "EEHxvTSIzWoS",
        "outputId": "9dc0d568-93e0-4c5b-b5fc-354f08df3299"
      },
      "source": [
        "#KNN Classifier\r\n",
        "from sklearn.metrics import classification_report, confusion_matrix\r\n",
        "print(confusion_matrix(Y_test,y_pred))\r\n",
        "print(classification_report(Y_test,y_pred))"
      ],
      "execution_count": null,
      "outputs": [
        {
          "output_type": "stream",
          "text": [
            "[[675666     23   3846    311     72    319    316     41      3     31\n",
            "      35     20    220     49      0]\n",
            " [    24  38201      0      0      0      0      0      1      0      0\n",
            "      11      1      5      0      0]\n",
            " [  1792      0  45990      0      0      1      0      3      0      0\n",
            "       0      0     13      5      0]\n",
            " [   249      0      7   1200      0      0      0      0      0      0\n",
            "       0      0      0      0      0]\n",
            " [    46      0      0      0   1482      0      0      0      0      0\n",
            "       0      0      0      0      0]\n",
            " [   472      0      0      0      0    779    198     24      0      1\n",
            "       0      0      0      0      0]\n",
            " [   487      0      3      0      0    193    813      5      0      3\n",
            "       0      0      6      0      0]\n",
            " [    13      0      0      0      0      6      0   1474      0      0\n",
            "       1      0      4      1      0]\n",
            " [     7      0      0      0      0      0      0      0   2358      0\n",
            "       0      0      0      0      0]\n",
            " [    14      0      0      0      0      0      0      0      0   1757\n",
            "       0      0      0      0      0]\n",
            " [    24      0      0      0      0      7      0      1      0      0\n",
            "    1736      0      0      0      0]\n",
            " [    14      2      0      0      0      1      0      1      0      0\n",
            "       8   1626      1      3      0]\n",
            " [    18      1      0      0      0      0      0     13      0      0\n",
            "       0      1  69276     91      0]\n",
            " [    50     17      0      0      0      0      1     14      0      0\n",
            "       0      2     94   2981      0]\n",
            " [     0      0      0      0      0      0      0      0      0      0\n",
            "       0      0      0      0   1523]]\n",
            "              precision    recall  f1-score   support\n",
            "\n",
            "         0.0       1.00      0.99      0.99    680952\n",
            "         1.0       1.00      1.00      1.00     38243\n",
            "         2.0       0.92      0.96      0.94     47804\n",
            "         3.0       0.79      0.82      0.81      1456\n",
            "         4.0       0.95      0.97      0.96      1528\n",
            "         5.0       0.60      0.53      0.56      1474\n",
            "         6.0       0.61      0.54      0.57      1510\n",
            "         7.0       0.93      0.98      0.96      1499\n",
            "         8.0       1.00      1.00      1.00      2365\n",
            "         9.0       0.98      0.99      0.99      1771\n",
            "        10.0       0.97      0.98      0.98      1768\n",
            "        11.0       0.99      0.98      0.98      1656\n",
            "        12.0       1.00      1.00      1.00     69400\n",
            "        13.0       0.95      0.94      0.95      3159\n",
            "        14.0       1.00      1.00      1.00      1523\n",
            "\n",
            "    accuracy                           0.99    856108\n",
            "   macro avg       0.91      0.91      0.91    856108\n",
            "weighted avg       0.99      0.99      0.99    856108\n",
            "\n"
          ],
          "name": "stdout"
        }
      ]
    },
    {
      "cell_type": "code",
      "metadata": {
        "colab": {
          "base_uri": "https://localhost:8080/"
        },
        "id": "ymckNN4vqd0G",
        "outputId": "c4b1b1ac-4e95-4436-9525-8cdd22f24923"
      },
      "source": [
        "#rf classifier\r\n",
        "from sklearn.metrics import classification_report, confusion_matrix\r\n",
        "print(confusion_matrix(Y_test,y_pred))\r\n",
        "print(classification_report(Y_test,y_pred))"
      ],
      "execution_count": null,
      "outputs": [
        {
          "output_type": "stream",
          "text": [
            "[[663926     24   3444    144      1    119     42      0      2     39\n",
            "      42     15    213     39      0]\n",
            " [    24  38414      0      0      0      0      0      0      0      0\n",
            "       6      1      3      4      0]\n",
            " [  1622      0  45962      0      0      0      0      0      0      0\n",
            "       0      0     22      6      0]\n",
            " [   233      0      1    356      0      0      0      0      0      0\n",
            "       0      0      0      0      0]\n",
            " [     9      0      0      0      3      0      0      0      0      0\n",
            "       0      0      0      0      0]\n",
            " [   317      0      2      0      0    119      9      0      0      3\n",
            "       1      0      0      1      0]\n",
            " [   163      0      0      0      0     18     15      0      0      2\n",
            "       0      0      1      0      0]\n",
            " [     4      0      0      0      0      0      0      0      0      1\n",
            "       0      0      1      0      0]\n",
            " [     6      0      0      0      0      0      0      0   2390      1\n",
            "       0      0      0      0      0]\n",
            " [    25      0      0      0      0      0      0      0      0   1772\n",
            "       0      0      0      0      0]\n",
            " [    22      0      0      0      0      1      0      1      0      1\n",
            "    1764      0      1      0      0]\n",
            " [    12      1      2      0      0      0      0      0      0      1\n",
            "       4   1685      1      1      0]\n",
            " [    21      3      0      0      0      2      0      0      0      2\n",
            "       0      0  68893     20      0]\n",
            " [    41     14      0      0      0      0      0      0      0      0\n",
            "       0      1     71   2165      0]\n",
            " [     0      0      0      0      0      0      0      0      0      0\n",
            "       0      0      0      0      6]]\n",
            "              precision    recall  f1-score   support\n",
            "\n",
            "         0.0       1.00      0.99      1.00    668050\n",
            "         1.0       1.00      1.00      1.00     38452\n",
            "         2.0       0.93      0.97      0.95     47612\n",
            "         3.0       0.71      0.60      0.65       590\n",
            "         4.0       0.75      0.25      0.38        12\n",
            "         5.0       0.46      0.26      0.33       452\n",
            "         6.0       0.23      0.08      0.11       199\n",
            "         7.0       0.00      0.00      0.00         6\n",
            "         8.0       1.00      1.00      1.00      2397\n",
            "         9.0       0.97      0.99      0.98      1797\n",
            "        10.0       0.97      0.99      0.98      1790\n",
            "        11.0       0.99      0.99      0.99      1707\n",
            "        12.0       1.00      1.00      1.00     68941\n",
            "        13.0       0.97      0.94      0.96      2292\n",
            "        14.0       1.00      1.00      1.00         6\n",
            "\n",
            "    accuracy                           0.99    834303\n",
            "   macro avg       0.80      0.74      0.75    834303\n",
            "weighted avg       0.99      0.99      0.99    834303\n",
            "\n"
          ],
          "name": "stdout"
        }
      ]
    }
  ]
}